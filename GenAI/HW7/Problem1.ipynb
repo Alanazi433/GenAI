{
  "nbformat": 4,
  "nbformat_minor": 0,
  "metadata": {
    "colab": {
      "provenance": [],
      "gpuType": "T4",
      "include_colab_link": true
    },
    "kernelspec": {
      "name": "python3",
      "display_name": "Python 3"
    },
    "language_info": {
      "name": "python"
    },
    "accelerator": "GPU"
  },
  "cells": [
    {
      "cell_type": "markdown",
      "metadata": {
        "id": "view-in-github",
        "colab_type": "text"
      },
      "source": [
        "<a href=\"https://colab.research.google.com/github/Alanazi433/GenAI/blob/main/GenAI/HW7/Problem1.ipynb\" target=\"_parent\"><img src=\"https://colab.research.google.com/assets/colab-badge.svg\" alt=\"Open In Colab\"/></a>"
      ]
    },
    {
      "cell_type": "code",
      "execution_count": null,
      "metadata": {
        "colab": {
          "base_uri": "https://localhost:8080/"
        },
        "id": "rVQ7kLOyDMqy",
        "outputId": "c8750772-88e1-4ea4-ef24-822b16e424cc"
      },
      "outputs": [
        {
          "output_type": "stream",
          "name": "stdout",
          "text": [
            "Collecting mido\n",
            "  Downloading mido-1.3.3-py3-none-any.whl.metadata (6.4 kB)\n",
            "Requirement already satisfied: music21 in /usr/local/lib/python3.10/dist-packages (9.3.0)\n",
            "Requirement already satisfied: packaging in /usr/local/lib/python3.10/dist-packages (from mido) (24.2)\n",
            "Requirement already satisfied: chardet in /usr/local/lib/python3.10/dist-packages (from music21) (5.2.0)\n",
            "Requirement already satisfied: joblib in /usr/local/lib/python3.10/dist-packages (from music21) (1.4.2)\n",
            "Requirement already satisfied: jsonpickle in /usr/local/lib/python3.10/dist-packages (from music21) (4.0.0)\n",
            "Requirement already satisfied: matplotlib in /usr/local/lib/python3.10/dist-packages (from music21) (3.8.0)\n",
            "Requirement already satisfied: more-itertools in /usr/local/lib/python3.10/dist-packages (from music21) (10.5.0)\n",
            "Requirement already satisfied: numpy in /usr/local/lib/python3.10/dist-packages (from music21) (1.26.4)\n",
            "Requirement already satisfied: requests in /usr/local/lib/python3.10/dist-packages (from music21) (2.32.3)\n",
            "Requirement already satisfied: webcolors>=1.5 in /usr/local/lib/python3.10/dist-packages (from music21) (24.11.1)\n",
            "Requirement already satisfied: contourpy>=1.0.1 in /usr/local/lib/python3.10/dist-packages (from matplotlib->music21) (1.3.1)\n",
            "Requirement already satisfied: cycler>=0.10 in /usr/local/lib/python3.10/dist-packages (from matplotlib->music21) (0.12.1)\n",
            "Requirement already satisfied: fonttools>=4.22.0 in /usr/local/lib/python3.10/dist-packages (from matplotlib->music21) (4.55.0)\n",
            "Requirement already satisfied: kiwisolver>=1.0.1 in /usr/local/lib/python3.10/dist-packages (from matplotlib->music21) (1.4.7)\n",
            "Requirement already satisfied: pillow>=6.2.0 in /usr/local/lib/python3.10/dist-packages (from matplotlib->music21) (11.0.0)\n",
            "Requirement already satisfied: pyparsing>=2.3.1 in /usr/local/lib/python3.10/dist-packages (from matplotlib->music21) (3.2.0)\n",
            "Requirement already satisfied: python-dateutil>=2.7 in /usr/local/lib/python3.10/dist-packages (from matplotlib->music21) (2.8.2)\n",
            "Requirement already satisfied: charset-normalizer<4,>=2 in /usr/local/lib/python3.10/dist-packages (from requests->music21) (3.4.0)\n",
            "Requirement already satisfied: idna<4,>=2.5 in /usr/local/lib/python3.10/dist-packages (from requests->music21) (3.10)\n",
            "Requirement already satisfied: urllib3<3,>=1.21.1 in /usr/local/lib/python3.10/dist-packages (from requests->music21) (2.2.3)\n",
            "Requirement already satisfied: certifi>=2017.4.17 in /usr/local/lib/python3.10/dist-packages (from requests->music21) (2024.8.30)\n",
            "Requirement already satisfied: six>=1.5 in /usr/local/lib/python3.10/dist-packages (from python-dateutil>=2.7->matplotlib->music21) (1.16.0)\n",
            "Downloading mido-1.3.3-py3-none-any.whl (54 kB)\n",
            "\u001b[?25l   \u001b[90m━━━━━━━━━━━━━━━━━━━━━━━━━━━━━━━━━━━━━━━━\u001b[0m \u001b[32m0.0/54.6 kB\u001b[0m \u001b[31m?\u001b[0m eta \u001b[36m-:--:--\u001b[0m\r\u001b[2K   \u001b[90m━━━━━━━━━━━━━━━━━━━━━━━━━━━━━━━━━━━━━━━━\u001b[0m \u001b[32m54.6/54.6 kB\u001b[0m \u001b[31m3.7 MB/s\u001b[0m eta \u001b[36m0:00:00\u001b[0m\n",
            "\u001b[?25hInstalling collected packages: mido\n",
            "Successfully installed mido-1.3.3\n"
          ]
        }
      ],
      "source": [
        "# Install required libraries\n",
        "!pip install mido music21\n"
      ]
    },
    {
      "cell_type": "code",
      "source": [
        "from google.colab import files\n",
        "\n",
        "# Upload the ZIP file\n",
        "uploaded = files.upload()\n",
        "\n",
        "# This will prompt you to upload a file from your computer.\n"
      ],
      "metadata": {
        "colab": {
          "base_uri": "https://localhost:8080/",
          "height": 76
        },
        "id": "FfLHqThJDlhb",
        "outputId": "68c0f58b-3972-4c13-e2f7-8ecf388bfca0"
      },
      "execution_count": 1,
      "outputs": [
        {
          "output_type": "display_data",
          "data": {
            "text/plain": [
              "<IPython.core.display.HTML object>"
            ],
            "text/html": [
              "\n",
              "     <input type=\"file\" id=\"files-95f7dd52-613d-4071-8ef3-4491cc650a5b\" name=\"files[]\" multiple disabled\n",
              "        style=\"border:none\" />\n",
              "     <output id=\"result-95f7dd52-613d-4071-8ef3-4491cc650a5b\">\n",
              "      Upload widget is only available when the cell has been executed in the\n",
              "      current browser session. Please rerun this cell to enable.\n",
              "      </output>\n",
              "      <script>// Copyright 2017 Google LLC\n",
              "//\n",
              "// Licensed under the Apache License, Version 2.0 (the \"License\");\n",
              "// you may not use this file except in compliance with the License.\n",
              "// You may obtain a copy of the License at\n",
              "//\n",
              "//      http://www.apache.org/licenses/LICENSE-2.0\n",
              "//\n",
              "// Unless required by applicable law or agreed to in writing, software\n",
              "// distributed under the License is distributed on an \"AS IS\" BASIS,\n",
              "// WITHOUT WARRANTIES OR CONDITIONS OF ANY KIND, either express or implied.\n",
              "// See the License for the specific language governing permissions and\n",
              "// limitations under the License.\n",
              "\n",
              "/**\n",
              " * @fileoverview Helpers for google.colab Python module.\n",
              " */\n",
              "(function(scope) {\n",
              "function span(text, styleAttributes = {}) {\n",
              "  const element = document.createElement('span');\n",
              "  element.textContent = text;\n",
              "  for (const key of Object.keys(styleAttributes)) {\n",
              "    element.style[key] = styleAttributes[key];\n",
              "  }\n",
              "  return element;\n",
              "}\n",
              "\n",
              "// Max number of bytes which will be uploaded at a time.\n",
              "const MAX_PAYLOAD_SIZE = 100 * 1024;\n",
              "\n",
              "function _uploadFiles(inputId, outputId) {\n",
              "  const steps = uploadFilesStep(inputId, outputId);\n",
              "  const outputElement = document.getElementById(outputId);\n",
              "  // Cache steps on the outputElement to make it available for the next call\n",
              "  // to uploadFilesContinue from Python.\n",
              "  outputElement.steps = steps;\n",
              "\n",
              "  return _uploadFilesContinue(outputId);\n",
              "}\n",
              "\n",
              "// This is roughly an async generator (not supported in the browser yet),\n",
              "// where there are multiple asynchronous steps and the Python side is going\n",
              "// to poll for completion of each step.\n",
              "// This uses a Promise to block the python side on completion of each step,\n",
              "// then passes the result of the previous step as the input to the next step.\n",
              "function _uploadFilesContinue(outputId) {\n",
              "  const outputElement = document.getElementById(outputId);\n",
              "  const steps = outputElement.steps;\n",
              "\n",
              "  const next = steps.next(outputElement.lastPromiseValue);\n",
              "  return Promise.resolve(next.value.promise).then((value) => {\n",
              "    // Cache the last promise value to make it available to the next\n",
              "    // step of the generator.\n",
              "    outputElement.lastPromiseValue = value;\n",
              "    return next.value.response;\n",
              "  });\n",
              "}\n",
              "\n",
              "/**\n",
              " * Generator function which is called between each async step of the upload\n",
              " * process.\n",
              " * @param {string} inputId Element ID of the input file picker element.\n",
              " * @param {string} outputId Element ID of the output display.\n",
              " * @return {!Iterable<!Object>} Iterable of next steps.\n",
              " */\n",
              "function* uploadFilesStep(inputId, outputId) {\n",
              "  const inputElement = document.getElementById(inputId);\n",
              "  inputElement.disabled = false;\n",
              "\n",
              "  const outputElement = document.getElementById(outputId);\n",
              "  outputElement.innerHTML = '';\n",
              "\n",
              "  const pickedPromise = new Promise((resolve) => {\n",
              "    inputElement.addEventListener('change', (e) => {\n",
              "      resolve(e.target.files);\n",
              "    });\n",
              "  });\n",
              "\n",
              "  const cancel = document.createElement('button');\n",
              "  inputElement.parentElement.appendChild(cancel);\n",
              "  cancel.textContent = 'Cancel upload';\n",
              "  const cancelPromise = new Promise((resolve) => {\n",
              "    cancel.onclick = () => {\n",
              "      resolve(null);\n",
              "    };\n",
              "  });\n",
              "\n",
              "  // Wait for the user to pick the files.\n",
              "  const files = yield {\n",
              "    promise: Promise.race([pickedPromise, cancelPromise]),\n",
              "    response: {\n",
              "      action: 'starting',\n",
              "    }\n",
              "  };\n",
              "\n",
              "  cancel.remove();\n",
              "\n",
              "  // Disable the input element since further picks are not allowed.\n",
              "  inputElement.disabled = true;\n",
              "\n",
              "  if (!files) {\n",
              "    return {\n",
              "      response: {\n",
              "        action: 'complete',\n",
              "      }\n",
              "    };\n",
              "  }\n",
              "\n",
              "  for (const file of files) {\n",
              "    const li = document.createElement('li');\n",
              "    li.append(span(file.name, {fontWeight: 'bold'}));\n",
              "    li.append(span(\n",
              "        `(${file.type || 'n/a'}) - ${file.size} bytes, ` +\n",
              "        `last modified: ${\n",
              "            file.lastModifiedDate ? file.lastModifiedDate.toLocaleDateString() :\n",
              "                                    'n/a'} - `));\n",
              "    const percent = span('0% done');\n",
              "    li.appendChild(percent);\n",
              "\n",
              "    outputElement.appendChild(li);\n",
              "\n",
              "    const fileDataPromise = new Promise((resolve) => {\n",
              "      const reader = new FileReader();\n",
              "      reader.onload = (e) => {\n",
              "        resolve(e.target.result);\n",
              "      };\n",
              "      reader.readAsArrayBuffer(file);\n",
              "    });\n",
              "    // Wait for the data to be ready.\n",
              "    let fileData = yield {\n",
              "      promise: fileDataPromise,\n",
              "      response: {\n",
              "        action: 'continue',\n",
              "      }\n",
              "    };\n",
              "\n",
              "    // Use a chunked sending to avoid message size limits. See b/62115660.\n",
              "    let position = 0;\n",
              "    do {\n",
              "      const length = Math.min(fileData.byteLength - position, MAX_PAYLOAD_SIZE);\n",
              "      const chunk = new Uint8Array(fileData, position, length);\n",
              "      position += length;\n",
              "\n",
              "      const base64 = btoa(String.fromCharCode.apply(null, chunk));\n",
              "      yield {\n",
              "        response: {\n",
              "          action: 'append',\n",
              "          file: file.name,\n",
              "          data: base64,\n",
              "        },\n",
              "      };\n",
              "\n",
              "      let percentDone = fileData.byteLength === 0 ?\n",
              "          100 :\n",
              "          Math.round((position / fileData.byteLength) * 100);\n",
              "      percent.textContent = `${percentDone}% done`;\n",
              "\n",
              "    } while (position < fileData.byteLength);\n",
              "  }\n",
              "\n",
              "  // All done.\n",
              "  yield {\n",
              "    response: {\n",
              "      action: 'complete',\n",
              "    }\n",
              "  };\n",
              "}\n",
              "\n",
              "scope.google = scope.google || {};\n",
              "scope.google.colab = scope.google.colab || {};\n",
              "scope.google.colab._files = {\n",
              "  _uploadFiles,\n",
              "  _uploadFilesContinue,\n",
              "};\n",
              "})(self);\n",
              "</script> "
            ]
          },
          "metadata": {}
        },
        {
          "output_type": "stream",
          "name": "stdout",
          "text": [
            "Saving bach_cello_suites.zip to bach_cello_suites.zip\n"
          ]
        }
      ]
    },
    {
      "cell_type": "code",
      "source": [
        "import zipfile\n",
        "import os\n",
        "\n",
        "# Specify the uploaded file path\n",
        "zip_path = '/content/bach_cello_suites.zip'\n",
        "\n",
        "# Extract the ZIP file\n",
        "with zipfile.ZipFile(zip_path, 'r') as zip_ref:\n",
        "    zip_ref.extractall('/content/bach_cello_suites/')\n",
        "\n",
        "# Verify the extraction\n",
        "midi_folder = '/content/bach_cello_suites/'\n",
        "print(\"Files extracted to:\", midi_folder)\n",
        "print(\"MIDI files:\", os.listdir(midi_folder))\n"
      ],
      "metadata": {
        "colab": {
          "base_uri": "https://localhost:8080/"
        },
        "id": "UYSt1aRyDukW",
        "outputId": "28677108-62c2-4f75-b8e4-9ce4fb9c0ffb"
      },
      "execution_count": 2,
      "outputs": [
        {
          "output_type": "stream",
          "name": "stdout",
          "text": [
            "Files extracted to: /content/bach_cello_suites/\n",
            "MIDI files: ['data']\n"
          ]
        }
      ]
    },
    {
      "cell_type": "code",
      "source": [
        "import os\n",
        "\n",
        "# Check the contents of the \"data\" folder\n",
        "nested_folder = '/content/bach_cello_suites/data'\n",
        "print(\"Files in 'data' folder:\", os.listdir(nested_folder))\n"
      ],
      "metadata": {
        "colab": {
          "base_uri": "https://localhost:8080/"
        },
        "id": "pqxKB3UgDxgT",
        "outputId": "6ff743e9-5576-4dbb-8d25-28787e29519c"
      },
      "execution_count": 3,
      "outputs": [
        {
          "output_type": "stream",
          "name": "stdout",
          "text": [
            "Files in 'data' folder: ['cs4-3cou.mid', 'cs4-1pre.mid', 'cs3-4sar.mid', 'cs3-3cou.mid', 'cs6-5gav.mid', 'cs2-6gig.mid', 'cs1-3cou.mid', 'cs4-4sar.mid', 'cs1-5men.mid', 'cs2-2all.mid', 'cs2-5men.mid', 'cs2-4sar.mid', 'cs6-2all.mid', 'cs6-3cou.mid', 'cs1-6gig.mid', 'cs5-5gav.mid', 'cs5-4sar.mid', 'cs3-1pre.mid', 'cs3-2all.mid', 'durations', 'cs5-2all.mid', 'cs1-4sar.mid', 'cs2-1pre.mid', 'cs5-1pre.mid', 'cs6-4sar.mid', 'cs2-3cou.mid', 'cs1-1pre.mid', 'cs6-6gig.mid', 'cs4-6gig.mid', 'cs4-2all.mid', 'cs3-6gig.mid', 'cs6-1pre.mid', 'cs3-5bou.mid', 'cs4-5bou.mid', 'cs5-3cou.mid', 'cs1-2all.mid', 'cs5-6gig.mid', 'notes']\n"
          ]
        }
      ]
    },
    {
      "cell_type": "code",
      "source": [
        "midi_folder = '/content/bach_cello_suites/data'  # Updated to point to the correct folder\n",
        "\n",
        "# List all MIDI files\n",
        "midi_files = [os.path.join(midi_folder, f) for f in os.listdir(midi_folder) if f.endswith('.mid')]\n",
        "print(f\"Found {len(midi_files)} MIDI files.\")\n"
      ],
      "metadata": {
        "colab": {
          "base_uri": "https://localhost:8080/"
        },
        "id": "naMiNygaD0e6",
        "outputId": "b6ed6597-d4cc-4471-af66-419426eb8e39"
      },
      "execution_count": 4,
      "outputs": [
        {
          "output_type": "stream",
          "name": "stdout",
          "text": [
            "Found 36 MIDI files.\n"
          ]
        }
      ]
    },
    {
      "cell_type": "code",
      "source": [
        "from music21 import converter, instrument, note, chord\n",
        "\n",
        "def parse_midi(file_path):\n",
        "    \"\"\"\n",
        "    Extract notes and chords from a MIDI file.\n",
        "    :param file_path: Path to the MIDI file.\n",
        "    :return: List of note and chord representations.\n",
        "    \"\"\"\n",
        "    try:\n",
        "        midi = converter.parse(file_path)\n",
        "        notes = []\n",
        "\n",
        "        # Check for instrument parts or flat structure\n",
        "        parts = instrument.partitionByInstrument(midi)\n",
        "        if parts:  # If multiple instruments\n",
        "            for part in parts.parts:  # Iterate through all parts\n",
        "                for element in part.recurse():\n",
        "                    if isinstance(element, note.Note):\n",
        "                        notes.append(str(element.pitch))\n",
        "                    elif isinstance(element, chord.Chord):\n",
        "                        notes.append('.'.join(str(n) for n in element.normalOrder))\n",
        "        else:  # Single flat structure\n",
        "            for element in midi.flat.notes:\n",
        "                if isinstance(element, note.Note):\n",
        "                    notes.append(str(element.pitch))\n",
        "                elif isinstance(element, chord.Chord):\n",
        "                    notes.append('.'.join(str(n) for n in element.normalOrder))\n",
        "\n",
        "        return notes\n",
        "\n",
        "    except Exception as e:\n",
        "        print(f\"Error processing {file_path}: {e}\")\n",
        "        return []\n",
        "\n",
        "# Parse the MIDI files again\n",
        "all_notes = []\n",
        "for midi_file in midi_files:\n",
        "    notes = parse_midi(midi_file)\n",
        "    all_notes.append(notes)\n",
        "\n",
        "print(f\"Reprocessed {len(midi_files)} MIDI files.\")\n",
        "print(f\"Example notes from the first file: {all_notes[0][:10]}\")\n"
      ],
      "metadata": {
        "colab": {
          "base_uri": "https://localhost:8080/"
        },
        "id": "2Y1wYzvLD37X",
        "outputId": "295c494e-9e03-472d-fbb3-00db8b4cda2f"
      },
      "execution_count": 5,
      "outputs": [
        {
          "output_type": "stream",
          "name": "stdout",
          "text": [
            "Reprocessed 36 MIDI files.\n",
            "Example notes from the first file: ['E-3', 'E-3', 'B-2', 'C3', 'G#2', 'F2', 'D3', 'E-3', 'E-2', 'D3']\n"
          ]
        }
      ]
    },
    {
      "cell_type": "code",
      "source": [
        "# Identify files with no notes\n",
        "empty_files = [midi_files[i] for i, notes in enumerate(all_notes) if len(notes) == 0]\n",
        "print(f\"Files with no notes: {empty_files}\")\n",
        "\n",
        "# Keep only files with valid notes\n",
        "valid_notes = [notes for notes in all_notes if len(notes) > 0]\n",
        "print(f\"Number of valid MIDI files: {len(valid_notes)}\")\n"
      ],
      "metadata": {
        "colab": {
          "base_uri": "https://localhost:8080/"
        },
        "id": "Rv0CEvEZD5FK",
        "outputId": "fd0818a7-6832-4100-f4f8-0df6388c05ee"
      },
      "execution_count": 6,
      "outputs": [
        {
          "output_type": "stream",
          "name": "stdout",
          "text": [
            "Files with no notes: []\n",
            "Number of valid MIDI files: 36\n"
          ]
        }
      ]
    },
    {
      "cell_type": "code",
      "source": [
        "import pickle\n",
        "\n",
        "# Save the valid notes to a file\n",
        "output_path = '/content/valid_parsed_notes.pkl'\n",
        "with open(output_path, 'wb') as f:\n",
        "    pickle.dump(valid_notes, f)\n",
        "\n",
        "print(f\"Valid parsed notes saved to: {output_path}\")\n"
      ],
      "metadata": {
        "colab": {
          "base_uri": "https://localhost:8080/"
        },
        "id": "omOiM8toEEE_",
        "outputId": "eafaaa03-c0d0-4ef0-aaad-7c37392d25c5"
      },
      "execution_count": 7,
      "outputs": [
        {
          "output_type": "stream",
          "name": "stdout",
          "text": [
            "Valid parsed notes saved to: /content/valid_parsed_notes.pkl\n"
          ]
        }
      ]
    },
    {
      "cell_type": "code",
      "source": [
        "import pickle\n",
        "\n",
        "# Load parsed notes from the previous step\n",
        "with open('/content/valid_parsed_notes.pkl', 'rb') as f:\n",
        "    valid_notes = pickle.load(f)\n",
        "\n",
        "print(f\"Loaded {len(valid_notes)} files of parsed notes.\")\n",
        "print(f\"Example notes from the first file: {valid_notes[0][:10]}\")\n"
      ],
      "metadata": {
        "colab": {
          "base_uri": "https://localhost:8080/"
        },
        "id": "IFU_fwrHELQB",
        "outputId": "d27dd29f-88b5-4294-c8bb-9ced9d19a3b7"
      },
      "execution_count": 8,
      "outputs": [
        {
          "output_type": "stream",
          "name": "stdout",
          "text": [
            "Loaded 36 files of parsed notes.\n",
            "Example notes from the first file: ['E-3', 'E-3', 'B-2', 'C3', 'G#2', 'F2', 'D3', 'E-3', 'E-2', 'D3']\n"
          ]
        }
      ]
    },
    {
      "cell_type": "code",
      "source": [
        "from collections import Counter\n",
        "\n",
        "# Flatten the list of all notes to create a single sequence\n",
        "all_notes_flat = [note for file_notes in valid_notes for note in file_notes]\n",
        "\n",
        "# Count the frequency of each note\n",
        "note_counter = Counter(all_notes_flat)\n",
        "\n",
        "# Create a vocabulary (mapping of notes to tokens)\n",
        "vocab = {note: i for i, note in enumerate(note_counter.keys())}\n",
        "\n",
        "# Add reverse mapping for decoding (optional, useful for generation)\n",
        "reverse_vocab = {i: note for note, i in vocab.items()}\n",
        "\n",
        "print(f\"Vocabulary size: {len(vocab)}\")\n",
        "print(\"Sample vocab:\", list(vocab.items()))\n"
      ],
      "metadata": {
        "colab": {
          "base_uri": "https://localhost:8080/"
        },
        "id": "1DN0GuMkEN-N",
        "outputId": "75766ebb-8c90-469a-b986-44cb8f85efa2"
      },
      "execution_count": 9,
      "outputs": [
        {
          "output_type": "stream",
          "name": "stdout",
          "text": [
            "Vocabulary size: 127\n",
            "Sample vocab: [('E-3', 0), ('B-2', 1), ('C3', 2), ('G#2', 3), ('F2', 4), ('D3', 5), ('E-2', 6), ('F3', 7), ('G3', 8), ('A3', 9), ('B-3', 10), ('G2', 11), ('G#3', 12), ('C4', 13), ('D2', 14), ('D4', 15), ('E-4', 16), ('F4', 17), ('G4', 18), ('A2', 19), ('B2', 20), ('C2', 21), ('B3', 22), ('E3', 23), ('C#4', 24), ('F#3', 25), ('C#3', 26), ('E4', 27), ('E2', 28), ('F#2', 29), ('C#2', 30), ('11.0', 31), ('7.9', 32), ('2.4', 33), ('F#4', 34), ('A4', 35), ('B4', 36), ('4.6', 37), ('8.9', 38), ('0.2', 39), ('5.7', 40), ('4.7', 41), ('1.2.4', 42), ('11.1', 43), ('9.11.1', 44), ('6.7', 45), ('2.4.6', 46), ('4.6.7', 47), ('2.6', 48), ('D5', 49), ('4.8', 50), ('11.2', 51), ('10.11.1.2', 52), ('C#5', 53), ('11.4', 54), ('11.1.2', 55), ('9.11', 56), ('9', 57), ('G#4', 58), ('6.8', 59), ('6.9', 60), ('1.2', 61), ('6.11', 62), ('9.2', 63), ('1.4', 64), ('9.1', 65), ('9.11.1.2', 66), ('7.11', 67), ('0.2.4', 68), ('6', 69), ('5.8', 70), ('8.11', 71), ('2.5', 72), ('2.4.6.7', 73), ('1.6', 74), ('3.9', 75), ('3.4', 76), ('9.11.0', 77), ('9.0', 78), ('3.6', 79), ('4.9', 80), ('2.7', 81), ('B-4', 82), ('0.3.7', 83), ('2.8', 84), ('7.9.0', 85), ('10.2', 86), ('7.10.0', 87), ('7.10', 88), ('7.0', 89), ('7.10.2', 90), ('0.4.7', 91), ('4.10', 92), ('8.0', 93), ('8.0.3', 94), ('3.7.10', 95), ('2.5.8', 96), ('3.8', 97), ('10.3', 98), ('5.7.11', 99), ('0.3', 100), ('0.2.5', 101), ('3.7', 102), ('0.3.5', 103), ('0', 104), ('4.5', 105), ('5.9', 106), ('0.6', 107), ('9.10', 108), ('5.11', 109), ('0.4', 110), ('10.0', 111), ('3.5', 112), ('0.5', 113), ('7.8', 114), ('2.3', 115), ('6.9.0', 116), ('8.10', 117), ('7', 118), ('11.0.2', 119), ('C5', 120), ('E-5', 121), ('E5', 122), ('F#5', 123), ('G5', 124), ('7.11.2', 125), ('5.10', 126)]\n"
          ]
        }
      ]
    },
    {
      "cell_type": "code",
      "source": [
        "# Convert notes to tokens\n",
        "tokenized_notes = [[vocab[note] for note in file_notes] for file_notes in valid_notes]\n",
        "\n",
        "print(f\"Tokenized {len(tokenized_notes)} files of notes.\")\n",
        "print(f\"Example tokenized notes from the first file: {tokenized_notes[0]}\")\n"
      ],
      "metadata": {
        "colab": {
          "base_uri": "https://localhost:8080/"
        },
        "id": "pd3ZhrRdERYs",
        "outputId": "d6cf0a80-80fd-4355-f396-5407af7d64c5"
      },
      "execution_count": 10,
      "outputs": [
        {
          "output_type": "stream",
          "name": "stdout",
          "text": [
            "Tokenized 36 files of notes.\n",
            "Example tokenized notes from the first file: [0, 0, 1, 2, 3, 4, 5, 0, 6, 5, 0, 7, 8, 7, 8, 9, 10, 7, 8, 0, 2, 9, 10, 1, 3, 11, 0, 3, 1, 2, 2, 5, 0, 7, 8, 12, 11, 3, 1, 1, 2, 5, 0, 7, 8, 7, 8, 12, 8, 7, 0, 1, 0, 5, 0, 6, 1, 2, 5, 0, 5, 0, 7, 8, 0, 8, 5, 2, 10, 9, 6, 2, 5, 0, 7, 0, 7, 8, 9, 7, 9, 0, 5, 13, 10, 14, 5, 0, 7, 8, 7, 8, 9, 10, 8, 10, 7, 0, 15, 13, 9, 13, 8, 7, 16, 15, 10, 15, 9, 8, 17, 16, 13, 16, 9, 7, 16, 15, 10, 15, 8, 0, 13, 9, 7, 7, 8, 9, 10, 13, 13, 0, 9, 10, 13, 15, 16, 16, 9, 2, 13, 15, 16, 17, 18, 18, 9, 17, 16, 15, 13, 15, 10, 0, 13, 7, 9, 10, 1, 10, 9, 8, 7, 8, 7, 0, 5, 1, 2, 5, 0, 7, 7, 8, 9, 10, 5, 2, 4, 1, 1, 0, 0, 1, 2, 3, 4, 5, 0, 6, 5, 0, 7, 8, 7, 8, 9, 10, 7, 8, 0, 2, 9, 10, 1, 3, 11, 0, 3, 1, 2, 2, 5, 0, 7, 8, 12, 11, 3, 1, 1, 2, 5, 0, 7, 8, 7, 8, 12, 8, 7, 0, 1, 0, 5, 0, 6, 1, 2, 5, 0, 5, 0, 7, 8, 0, 8, 5, 2, 10, 9, 6, 2, 5, 0, 7, 0, 7, 8, 9, 7, 9, 0, 5, 13, 10, 14, 5, 0, 7, 8, 7, 8, 9, 10, 8, 10, 7, 0, 15, 13, 9, 13, 8, 7, 16, 15, 10, 15, 9, 8, 17, 16, 13, 16, 9, 7, 16, 15, 10, 15, 8, 0, 13, 9, 7, 7, 8, 9, 10, 13, 13, 0, 9, 10, 13, 15, 16, 16, 9, 2, 13, 15, 16, 17, 18, 18, 9, 17, 16, 15, 13, 15, 10, 0, 13, 7, 9, 10, 1, 10, 9, 8, 7, 8, 7, 0, 5, 1, 2, 5, 0, 7, 7, 8, 9, 10, 5, 2, 4, 1, 1, 7, 7, 5, 8, 0, 19, 7, 5, 1, 2, 5, 0, 5, 0, 7, 8, 0, 12, 7, 20, 8, 0, 21, 8, 9, 22, 13, 22, 13, 15, 16, 15, 16, 13, 16, 10, 16, 9, 16, 8, 7, 16, 15, 13, 15, 10, 15, 9, 15, 8, 15, 7, 0, 15, 13, 10, 13, 12, 13, 8, 13, 7, 13, 0, 5, 7, 12, 8, 12, 7, 12, 0, 12, 5, 12, 2, 20, 5, 7, 0, 7, 5, 7, 2, 7, 20, 7, 19, 11, 22, 13, 16, 7, 15, 8, 22, 13, 21, 11, 19, 20, 2, 20, 2, 5, 23, 5, 23, 7, 8, 7, 8, 12, 10, 12, 10, 8, 12, 8, 7, 7, 0, 5, 5, 2, 1, 1, 2, 5, 0, 7, 0, 7, 8, 12, 8, 12, 7, 8, 7, 0, 0, 5, 2, 2, 1, 3, 3, 13, 10, 12, 10, 12, 8, 7, 8, 7, 0, 5, 0, 5, 2, 1, 2, 1, 3, 11, 3, 11, 4, 6, 16, 10, 12, 8, 7, 0, 1, 11, 24, 10, 12, 8, 7, 0, 24, 3, 24, 13, 10, 12, 8, 7, 13, 11, 13, 10, 12, 8, 7, 23, 10, 4, 10, 12, 8, 7, 0, 5, 12, 6, 12, 8, 7, 0, 5, 0, 8, 19, 2, 0, 25, 9, 13, 5, 1, 1, 2, 5, 0, 7, 7, 3, 5, 0, 7, 8, 12, 12, 5, 4, 7, 8, 12, 10, 13, 13, 5, 10, 12, 8, 7, 8, 0, 3, 7, 1, 5, 0, 6, 1, 2, 5, 0, 5, 0, 7, 8, 0, 7, 8, 12, 10, 10, 13, 15, 16, 8, 7, 1, 0, 0, 1, 6, 7, 7, 5, 8, 0, 19, 7, 5, 1, 2, 5, 0, 5, 0, 7, 8, 0, 12, 7, 20, 8, 0, 21, 8, 9, 22, 13, 22, 13, 15, 16, 15, 16, 13, 16, 10, 16, 9, 16, 8, 7, 16, 15, 13, 15, 10, 15, 9, 15, 8, 15, 7, 0, 15, 13, 10, 13, 12, 13, 8, 13, 7, 13, 0, 5, 7, 12, 8, 12, 7, 12, 0, 12, 5, 12, 2, 20, 5, 7, 0, 7, 5, 7, 2, 7, 20, 7, 19, 11, 22, 13, 16, 7, 15, 8, 22, 13, 21, 11, 19, 20, 2, 20, 2, 5, 23, 5, 23, 7, 8, 7, 8, 12, 10, 12, 10, 8, 12, 8, 7, 7, 0, 5, 5, 2, 1, 1, 2, 5, 0, 7, 0, 7, 8, 12, 8, 12, 7, 8, 7, 0, 0, 5, 2, 2, 1, 3, 3, 13, 10, 12, 10, 12, 8, 7, 8, 7, 0, 5, 0, 5, 2, 1, 2, 1, 3, 11, 3, 11, 4, 6, 16, 10, 12, 8, 7, 0, 1, 11, 24, 10, 12, 8, 7, 0, 24, 3, 24, 13, 10, 12, 8, 7, 13, 11, 13, 10, 12, 8, 7, 23, 10, 4, 10, 12, 8, 7, 0, 5, 12, 6, 12, 8, 7, 0, 5, 0, 8, 19, 2, 0, 25, 9, 13, 5, 1, 1, 2, 5, 0, 7, 7, 3, 5, 0, 7, 8, 12, 12, 5, 4, 7, 8, 12, 10, 13, 13, 5, 10, 12, 8, 7, 8, 0, 3, 7, 1, 5, 0, 6, 1, 2, 5, 0, 5, 0, 7, 8, 0, 7, 8, 12, 10, 10, 13, 15, 16, 8, 7, 1, 0, 0, 1, 6]\n"
          ]
        }
      ]
    },
    {
      "cell_type": "code",
      "source": [
        "# Save tokenized notes\n",
        "with open('/content/tokenized_notes.pkl', 'wb') as f:\n",
        "    pickle.dump(tokenized_notes, f)\n",
        "\n",
        "# Save vocabulary\n",
        "with open('/content/vocab.pkl', 'wb') as f:\n",
        "    pickle.dump(vocab, f)\n",
        "\n",
        "print(\"Tokenized notes and vocabulary saved.\")\n"
      ],
      "metadata": {
        "colab": {
          "base_uri": "https://localhost:8080/"
        },
        "id": "c9sOA3B2EWss",
        "outputId": "11eecdaa-24a5-4e28-da26-5084a1201584"
      },
      "execution_count": 11,
      "outputs": [
        {
          "output_type": "stream",
          "name": "stdout",
          "text": [
            "Tokenized notes and vocabulary saved.\n"
          ]
        }
      ]
    },
    {
      "cell_type": "code",
      "source": [
        "import numpy as np\n",
        "\n",
        "def create_training_sequences(tokenized_notes, seq_length=50):\n",
        "    \"\"\"\n",
        "    Creates input-output pairs for training the Transformer.\n",
        "    :param tokenized_notes: List of tokenized notes (one list per file).\n",
        "    :param seq_length: Length of input sequences.\n",
        "    :return: input_sequences, output_tokens\n",
        "    \"\"\"\n",
        "    input_sequences = []\n",
        "    output_tokens = []\n",
        "\n",
        "    for file_tokens in tokenized_notes:\n",
        "        for i in range(len(file_tokens) - seq_length):\n",
        "            input_seq = file_tokens[i:i + seq_length]\n",
        "            output_token = file_tokens[i + seq_length]\n",
        "\n",
        "            input_sequences.append(input_seq)\n",
        "            output_tokens.append(output_token)\n",
        "\n",
        "    return np.array(input_sequences), np.array(output_tokens)\n",
        "\n",
        "# Define sequence length\n",
        "sequence_length = 50\n",
        "\n",
        "# Create training sequences\n",
        "input_sequences, output_tokens = create_training_sequences(tokenized_notes, seq_length=sequence_length)\n",
        "\n",
        "print(f\"Input sequences shape: {input_sequences.shape}\")\n",
        "print(f\"Output tokens shape: {output_tokens.shape}\")\n"
      ],
      "metadata": {
        "colab": {
          "base_uri": "https://localhost:8080/"
        },
        "id": "inanm9pNEZlh",
        "outputId": "f5dfe6d4-a696-4470-d259-ad2acdec48db"
      },
      "execution_count": 12,
      "outputs": [
        {
          "output_type": "stream",
          "name": "stdout",
          "text": [
            "Input sequences shape: (27502, 50)\n",
            "Output tokens shape: (27502,)\n"
          ]
        }
      ]
    },
    {
      "cell_type": "code",
      "source": [
        "# Save training data\n",
        "np.save('/content/input_sequences.npy', input_sequences)\n",
        "np.save('/content/output_tokens.npy', output_tokens)\n",
        "\n",
        "print(\"Training data saved as numpy arrays.\")\n"
      ],
      "metadata": {
        "colab": {
          "base_uri": "https://localhost:8080/"
        },
        "id": "hl_V4XRkEcGl",
        "outputId": "e2195c48-2cf5-4541-bc50-ad4c659035d4"
      },
      "execution_count": 13,
      "outputs": [
        {
          "output_type": "stream",
          "name": "stdout",
          "text": [
            "Training data saved as numpy arrays.\n"
          ]
        }
      ]
    },
    {
      "cell_type": "code",
      "source": [
        "import tensorflow as tf\n",
        "from tensorflow.keras import layers\n",
        "vocab_size = len(vocab)\n",
        "seq_length=50\n",
        "# Updated Positional Encoding layer\n",
        "class PositionalEncoding(layers.Layer):\n",
        "    def __init__(self, seq_length, d_model):\n",
        "        \"\"\"\n",
        "        Initialize PositionalEncoding.\n",
        "        :param seq_length: Maximum sequence length.\n",
        "        :param d_model: Dimensionality of the embedding space.\n",
        "        \"\"\"\n",
        "        super(PositionalEncoding, self).__init__()\n",
        "        self.seq_length = seq_length\n",
        "        self.d_model = d_model\n",
        "\n",
        "        # Precompute the positional encodings\n",
        "        self.positional_encodings = self.compute_positional_encodings()\n",
        "\n",
        "    def compute_positional_encodings(self):\n",
        "        \"\"\"\n",
        "        Precompute positional encodings for the given sequence length and embedding size.\n",
        "        \"\"\"\n",
        "        positions = tf.range(self.seq_length, dtype=tf.float32)[:, tf.newaxis]\n",
        "        dimensions = tf.range(self.d_model, dtype=tf.float32)[tf.newaxis, :]\n",
        "\n",
        "        angle_rates = 1 / tf.pow(10000, (2 * (dimensions // 2)) / tf.cast(self.d_model, tf.float32))\n",
        "        angle_rads = positions * angle_rates\n",
        "\n",
        "        # Apply sin to even indices and cos to odd indices\n",
        "        sines = tf.sin(angle_rads[:, 0::2])\n",
        "        cosines = tf.cos(angle_rads[:, 1::2])\n",
        "\n",
        "        # Combine sines and cosines\n",
        "        positional_encodings = tf.concat([sines, cosines], axis=-1)\n",
        "        return positional_encodings[tf.newaxis, ...]\n",
        "\n",
        "    def call(self, inputs):\n",
        "        \"\"\"\n",
        "        Add positional encodings to the input embeddings.\n",
        "        :param inputs: Embedding inputs of shape (batch_size, seq_length, d_model).\n",
        "        :return: Input embeddings with positional encodings added.\n",
        "        \"\"\"\n",
        "        batch_size = tf.shape(inputs)[0]\n",
        "        return inputs + self.positional_encodings[:, :tf.shape(inputs)[1], :]\n",
        "\n",
        "# Define the Transformer model\n",
        "def create_transformer_model(vocab_size, seq_length, d_model=128, num_heads=4, num_layers=4, dropout_rate=0.3):\n",
        "    inputs = layers.Input(shape=(seq_length,), dtype=tf.int32)\n",
        "    x = layers.Embedding(vocab_size, d_model)(inputs)\n",
        "    x = PositionalEncoding(seq_length, d_model)(x)\n",
        "\n",
        "    # Transformer layers\n",
        "    for _ in range(num_layers):\n",
        "        attention = layers.MultiHeadAttention(num_heads=num_heads, key_dim=d_model)(x, x)\n",
        "        x = layers.LayerNormalization(epsilon=1e-6)(x + attention)\n",
        "        feedforward = layers.Dense(d_model, activation='relu')(x)\n",
        "        x = layers.LayerNormalization(epsilon=1e-6)(x + feedforward)\n",
        "        x = layers.Dropout(dropout_rate)(x)\n",
        "\n",
        "    # Predict a token for each position\n",
        "    outputs = layers.Dense(vocab_size, activation='softmax')(x)\n",
        "\n",
        "    # Compile the model\n",
        "    model = tf.keras.Model(inputs, outputs)\n",
        "    model.compile(optimizer='adam', loss='sparse_categorical_crossentropy', metrics=['accuracy'])\n",
        "    return model\n",
        "\n",
        "model = create_transformer_model(vocab_size, seq_length)\n",
        "\n",
        "\n"
      ],
      "metadata": {
        "id": "L6BSvBxWEeqr"
      },
      "execution_count": 14,
      "outputs": []
    },
    {
      "cell_type": "code",
      "source": [
        "def create_training_sequences_for_seq2seq(tokenized_notes, seq_length=50):\n",
        "    input_sequences = []\n",
        "    output_sequences = []\n",
        "    for file_tokens in tokenized_notes:\n",
        "        for i in range(len(file_tokens) - seq_length):\n",
        "            input_seq = file_tokens[i:i + seq_length]\n",
        "            output_seq = file_tokens[i + 1:i + 1 + seq_length]\n",
        "\n",
        "            input_sequences.append(input_seq)\n",
        "            output_sequences.append(output_seq)\n",
        "\n",
        "    return np.array(input_sequences), np.array(output_sequences)\n",
        "\n",
        "input_sequences, output_sequences = create_training_sequences_for_seq2seq(tokenized_notes, seq_length=50)\n"
      ],
      "metadata": {
        "id": "EXrkvaaBFwa0"
      },
      "execution_count": 15,
      "outputs": []
    },
    {
      "cell_type": "code",
      "source": [
        "\n",
        "batch_size = 64\n",
        "\n"
      ],
      "metadata": {
        "id": "VoIa-xFLFzRU"
      },
      "execution_count": 16,
      "outputs": []
    },
    {
      "cell_type": "code",
      "source": [
        "dataset = tf.data.Dataset.from_tensor_slices((input_sequences, output_sequences))\n",
        "dataset = dataset.shuffle(10000).batch(batch_size, drop_remainder=True)\n",
        "\n",
        "history = model.fit(dataset, epochs=50)\n"
      ],
      "metadata": {
        "colab": {
          "base_uri": "https://localhost:8080/"
        },
        "id": "6wBvevZjH1wo",
        "outputId": "b95f0c24-8a9e-435d-9ef1-cf8e15ae1f1f"
      },
      "execution_count": 17,
      "outputs": [
        {
          "output_type": "stream",
          "name": "stdout",
          "text": [
            "Epoch 1/50\n",
            "\u001b[1m429/429\u001b[0m \u001b[32m━━━━━━━━━━━━━━━━━━━━\u001b[0m\u001b[37m\u001b[0m \u001b[1m27s\u001b[0m 16ms/step - accuracy: 0.0776 - loss: 3.5260\n",
            "Epoch 2/50\n",
            "\u001b[1m429/429\u001b[0m \u001b[32m━━━━━━━━━━━━━━━━━━━━\u001b[0m\u001b[37m\u001b[0m \u001b[1m7s\u001b[0m 17ms/step - accuracy: 0.0882 - loss: 3.3499\n",
            "Epoch 3/50\n",
            "\u001b[1m429/429\u001b[0m \u001b[32m━━━━━━━━━━━━━━━━━━━━\u001b[0m\u001b[37m\u001b[0m \u001b[1m7s\u001b[0m 16ms/step - accuracy: 0.0887 - loss: 3.3484\n",
            "Epoch 4/50\n",
            "\u001b[1m429/429\u001b[0m \u001b[32m━━━━━━━━━━━━━━━━━━━━\u001b[0m\u001b[37m\u001b[0m \u001b[1m10s\u001b[0m 16ms/step - accuracy: 0.0885 - loss: 3.3462\n",
            "Epoch 5/50\n",
            "\u001b[1m429/429\u001b[0m \u001b[32m━━━━━━━━━━━━━━━━━━━━\u001b[0m\u001b[37m\u001b[0m \u001b[1m7s\u001b[0m 17ms/step - accuracy: 0.0878 - loss: 3.4725\n",
            "Epoch 6/50\n",
            "\u001b[1m429/429\u001b[0m \u001b[32m━━━━━━━━━━━━━━━━━━━━\u001b[0m\u001b[37m\u001b[0m \u001b[1m10s\u001b[0m 17ms/step - accuracy: 0.0886 - loss: 3.3484\n",
            "Epoch 7/50\n",
            "\u001b[1m429/429\u001b[0m \u001b[32m━━━━━━━━━━━━━━━━━━━━\u001b[0m\u001b[37m\u001b[0m \u001b[1m10s\u001b[0m 17ms/step - accuracy: 0.0894 - loss: 3.3441\n",
            "Epoch 8/50\n",
            "\u001b[1m429/429\u001b[0m \u001b[32m━━━━━━━━━━━━━━━━━━━━\u001b[0m\u001b[37m\u001b[0m \u001b[1m7s\u001b[0m 17ms/step - accuracy: 0.0889 - loss: 3.3410\n",
            "Epoch 9/50\n",
            "\u001b[1m429/429\u001b[0m \u001b[32m━━━━━━━━━━━━━━━━━━━━\u001b[0m\u001b[37m\u001b[0m \u001b[1m11s\u001b[0m 18ms/step - accuracy: 0.0894 - loss: 3.3413\n",
            "Epoch 10/50\n",
            "\u001b[1m429/429\u001b[0m \u001b[32m━━━━━━━━━━━━━━━━━━━━\u001b[0m\u001b[37m\u001b[0m \u001b[1m10s\u001b[0m 17ms/step - accuracy: 0.0892 - loss: 3.3433\n",
            "Epoch 11/50\n",
            "\u001b[1m429/429\u001b[0m \u001b[32m━━━━━━━━━━━━━━━━━━━━\u001b[0m\u001b[37m\u001b[0m \u001b[1m10s\u001b[0m 17ms/step - accuracy: 0.0893 - loss: 3.3411\n",
            "Epoch 12/50\n",
            "\u001b[1m429/429\u001b[0m \u001b[32m━━━━━━━━━━━━━━━━━━━━\u001b[0m\u001b[37m\u001b[0m \u001b[1m10s\u001b[0m 17ms/step - accuracy: 0.0890 - loss: 3.3463\n",
            "Epoch 13/50\n",
            "\u001b[1m429/429\u001b[0m \u001b[32m━━━━━━━━━━━━━━━━━━━━\u001b[0m\u001b[37m\u001b[0m \u001b[1m8s\u001b[0m 18ms/step - accuracy: 0.0891 - loss: 3.3432\n",
            "Epoch 14/50\n",
            "\u001b[1m429/429\u001b[0m \u001b[32m━━━━━━━━━━━━━━━━━━━━\u001b[0m\u001b[37m\u001b[0m \u001b[1m7s\u001b[0m 17ms/step - accuracy: 0.0891 - loss: 3.3340\n",
            "Epoch 15/50\n",
            "\u001b[1m429/429\u001b[0m \u001b[32m━━━━━━━━━━━━━━━━━━━━\u001b[0m\u001b[37m\u001b[0m \u001b[1m10s\u001b[0m 17ms/step - accuracy: 0.0892 - loss: 3.3364\n",
            "Epoch 16/50\n",
            "\u001b[1m429/429\u001b[0m \u001b[32m━━━━━━━━━━━━━━━━━━━━\u001b[0m\u001b[37m\u001b[0m \u001b[1m7s\u001b[0m 17ms/step - accuracy: 0.0895 - loss: 3.3419\n",
            "Epoch 17/50\n",
            "\u001b[1m429/429\u001b[0m \u001b[32m━━━━━━━━━━━━━━━━━━━━\u001b[0m\u001b[37m\u001b[0m \u001b[1m7s\u001b[0m 16ms/step - accuracy: 0.0900 - loss: 3.3393\n",
            "Epoch 18/50\n",
            "\u001b[1m429/429\u001b[0m \u001b[32m━━━━━━━━━━━━━━━━━━━━\u001b[0m\u001b[37m\u001b[0m \u001b[1m10s\u001b[0m 17ms/step - accuracy: 0.0889 - loss: 3.3530\n",
            "Epoch 19/50\n",
            "\u001b[1m429/429\u001b[0m \u001b[32m━━━━━━━━━━━━━━━━━━━━\u001b[0m\u001b[37m\u001b[0m \u001b[1m7s\u001b[0m 17ms/step - accuracy: 0.0894 - loss: 3.3399\n",
            "Epoch 20/50\n",
            "\u001b[1m429/429\u001b[0m \u001b[32m━━━━━━━━━━━━━━━━━━━━\u001b[0m\u001b[37m\u001b[0m \u001b[1m7s\u001b[0m 17ms/step - accuracy: 0.0896 - loss: 3.3376\n",
            "Epoch 21/50\n",
            "\u001b[1m429/429\u001b[0m \u001b[32m━━━━━━━━━━━━━━━━━━━━\u001b[0m\u001b[37m\u001b[0m \u001b[1m10s\u001b[0m 17ms/step - accuracy: 0.0895 - loss: 3.3344\n",
            "Epoch 22/50\n",
            "\u001b[1m429/429\u001b[0m \u001b[32m━━━━━━━━━━━━━━━━━━━━\u001b[0m\u001b[37m\u001b[0m \u001b[1m7s\u001b[0m 17ms/step - accuracy: 0.0891 - loss: 3.3353\n",
            "Epoch 23/50\n",
            "\u001b[1m429/429\u001b[0m \u001b[32m━━━━━━━━━━━━━━━━━━━━\u001b[0m\u001b[37m\u001b[0m \u001b[1m7s\u001b[0m 17ms/step - accuracy: 0.0894 - loss: 3.3442\n",
            "Epoch 24/50\n",
            "\u001b[1m429/429\u001b[0m \u001b[32m━━━━━━━━━━━━━━━━━━━━\u001b[0m\u001b[37m\u001b[0m \u001b[1m7s\u001b[0m 17ms/step - accuracy: 0.0892 - loss: 3.3393\n",
            "Epoch 25/50\n",
            "\u001b[1m429/429\u001b[0m \u001b[32m━━━━━━━━━━━━━━━━━━━━\u001b[0m\u001b[37m\u001b[0m \u001b[1m10s\u001b[0m 17ms/step - accuracy: 0.0891 - loss: 3.3361\n",
            "Epoch 26/50\n",
            "\u001b[1m429/429\u001b[0m \u001b[32m━━━━━━━━━━━━━━━━━━━━\u001b[0m\u001b[37m\u001b[0m \u001b[1m10s\u001b[0m 17ms/step - accuracy: 0.0892 - loss: 3.3344\n",
            "Epoch 27/50\n",
            "\u001b[1m429/429\u001b[0m \u001b[32m━━━━━━━━━━━━━━━━━━━━\u001b[0m\u001b[37m\u001b[0m \u001b[1m7s\u001b[0m 17ms/step - accuracy: 0.0899 - loss: 3.3384\n",
            "Epoch 28/50\n",
            "\u001b[1m429/429\u001b[0m \u001b[32m━━━━━━━━━━━━━━━━━━━━\u001b[0m\u001b[37m\u001b[0m \u001b[1m7s\u001b[0m 17ms/step - accuracy: 0.0897 - loss: 3.3427\n",
            "Epoch 29/50\n",
            "\u001b[1m429/429\u001b[0m \u001b[32m━━━━━━━━━━━━━━━━━━━━\u001b[0m\u001b[37m\u001b[0m \u001b[1m10s\u001b[0m 17ms/step - accuracy: 0.0900 - loss: 3.3376\n",
            "Epoch 30/50\n",
            "\u001b[1m429/429\u001b[0m \u001b[32m━━━━━━━━━━━━━━━━━━━━\u001b[0m\u001b[37m\u001b[0m \u001b[1m10s\u001b[0m 16ms/step - accuracy: 0.0895 - loss: 3.3366\n",
            "Epoch 31/50\n",
            "\u001b[1m429/429\u001b[0m \u001b[32m━━━━━━━━━━━━━━━━━━━━\u001b[0m\u001b[37m\u001b[0m \u001b[1m7s\u001b[0m 17ms/step - accuracy: 0.0901 - loss: 3.3328\n",
            "Epoch 32/50\n",
            "\u001b[1m429/429\u001b[0m \u001b[32m━━━━━━━━━━━━━━━━━━━━\u001b[0m\u001b[37m\u001b[0m \u001b[1m10s\u001b[0m 17ms/step - accuracy: 0.0892 - loss: 3.3305\n",
            "Epoch 33/50\n",
            "\u001b[1m429/429\u001b[0m \u001b[32m━━━━━━━━━━━━━━━━━━━━\u001b[0m\u001b[37m\u001b[0m \u001b[1m7s\u001b[0m 16ms/step - accuracy: 0.0898 - loss: 3.3378\n",
            "Epoch 34/50\n",
            "\u001b[1m429/429\u001b[0m \u001b[32m━━━━━━━━━━━━━━━━━━━━\u001b[0m\u001b[37m\u001b[0m \u001b[1m7s\u001b[0m 17ms/step - accuracy: 0.0898 - loss: 3.3396\n",
            "Epoch 35/50\n",
            "\u001b[1m429/429\u001b[0m \u001b[32m━━━━━━━━━━━━━━━━━━━━\u001b[0m\u001b[37m\u001b[0m \u001b[1m7s\u001b[0m 16ms/step - accuracy: 0.0896 - loss: 3.3389\n",
            "Epoch 36/50\n",
            "\u001b[1m429/429\u001b[0m \u001b[32m━━━━━━━━━━━━━━━━━━━━\u001b[0m\u001b[37m\u001b[0m \u001b[1m7s\u001b[0m 17ms/step - accuracy: 0.0880 - loss: 3.3491\n",
            "Epoch 37/50\n",
            "\u001b[1m429/429\u001b[0m \u001b[32m━━━━━━━━━━━━━━━━━━━━\u001b[0m\u001b[37m\u001b[0m \u001b[1m7s\u001b[0m 16ms/step - accuracy: 0.0896 - loss: 3.3357\n",
            "Epoch 38/50\n",
            "\u001b[1m429/429\u001b[0m \u001b[32m━━━━━━━━━━━━━━━━━━━━\u001b[0m\u001b[37m\u001b[0m \u001b[1m7s\u001b[0m 16ms/step - accuracy: 0.0898 - loss: 3.3376\n",
            "Epoch 39/50\n",
            "\u001b[1m429/429\u001b[0m \u001b[32m━━━━━━━━━━━━━━━━━━━━\u001b[0m\u001b[37m\u001b[0m \u001b[1m10s\u001b[0m 17ms/step - accuracy: 0.0895 - loss: 3.3365\n",
            "Epoch 40/50\n",
            "\u001b[1m429/429\u001b[0m \u001b[32m━━━━━━━━━━━━━━━━━━━━\u001b[0m\u001b[37m\u001b[0m \u001b[1m10s\u001b[0m 17ms/step - accuracy: 0.0897 - loss: 3.3406\n",
            "Epoch 41/50\n",
            "\u001b[1m429/429\u001b[0m \u001b[32m━━━━━━━━━━━━━━━━━━━━\u001b[0m\u001b[37m\u001b[0m \u001b[1m7s\u001b[0m 16ms/step - accuracy: 0.0895 - loss: 3.3404\n",
            "Epoch 42/50\n",
            "\u001b[1m429/429\u001b[0m \u001b[32m━━━━━━━━━━━━━━━━━━━━\u001b[0m\u001b[37m\u001b[0m \u001b[1m7s\u001b[0m 17ms/step - accuracy: 0.0895 - loss: 3.3360\n",
            "Epoch 43/50\n",
            "\u001b[1m429/429\u001b[0m \u001b[32m━━━━━━━━━━━━━━━━━━━━\u001b[0m\u001b[37m\u001b[0m \u001b[1m7s\u001b[0m 16ms/step - accuracy: 0.0898 - loss: 3.3373\n",
            "Epoch 44/50\n",
            "\u001b[1m429/429\u001b[0m \u001b[32m━━━━━━━━━━━━━━━━━━━━\u001b[0m\u001b[37m\u001b[0m \u001b[1m7s\u001b[0m 17ms/step - accuracy: 0.0894 - loss: 3.3410\n",
            "Epoch 45/50\n",
            "\u001b[1m429/429\u001b[0m \u001b[32m━━━━━━━━━━━━━━━━━━━━\u001b[0m\u001b[37m\u001b[0m \u001b[1m7s\u001b[0m 16ms/step - accuracy: 0.0893 - loss: 3.3402\n",
            "Epoch 46/50\n",
            "\u001b[1m429/429\u001b[0m \u001b[32m━━━━━━━━━━━━━━━━━━━━\u001b[0m\u001b[37m\u001b[0m \u001b[1m10s\u001b[0m 16ms/step - accuracy: 0.0895 - loss: 3.3407\n",
            "Epoch 47/50\n",
            "\u001b[1m429/429\u001b[0m \u001b[32m━━━━━━━━━━━━━━━━━━━━\u001b[0m\u001b[37m\u001b[0m \u001b[1m7s\u001b[0m 16ms/step - accuracy: 0.0894 - loss: 3.3434\n",
            "Epoch 48/50\n",
            "\u001b[1m429/429\u001b[0m \u001b[32m━━━━━━━━━━━━━━━━━━━━\u001b[0m\u001b[37m\u001b[0m \u001b[1m10s\u001b[0m 17ms/step - accuracy: 0.0889 - loss: 3.3378\n",
            "Epoch 49/50\n",
            "\u001b[1m429/429\u001b[0m \u001b[32m━━━━━━━━━━━━━━━━━━━━\u001b[0m\u001b[37m\u001b[0m \u001b[1m7s\u001b[0m 16ms/step - accuracy: 0.0892 - loss: 3.3425\n",
            "Epoch 50/50\n",
            "\u001b[1m429/429\u001b[0m \u001b[32m━━━━━━━━━━━━━━━━━━━━\u001b[0m\u001b[37m\u001b[0m \u001b[1m7s\u001b[0m 17ms/step - accuracy: 0.0896 - loss: 3.3380\n"
          ]
        }
      ]
    },
    {
      "cell_type": "code",
      "source": [
        "# Save the entire model as a single file\n",
        "model.save('transformer_model.h5')  # This saves everything: weights + architecture\n",
        "# Save the model weights only\n",
        "model.save_weights('transformer.weights.h5')\n",
        "\n",
        "# Save the model architecture\n",
        "with open('transformer_architecture.json', 'w') as f:\n",
        "    f.write(model.to_json())\n"
      ],
      "metadata": {
        "colab": {
          "base_uri": "https://localhost:8080/"
        },
        "id": "_cuGTDa0LNZS",
        "outputId": "cc89222b-29f4-48fc-8e38-45e77d3e72fa"
      },
      "execution_count": 18,
      "outputs": [
        {
          "output_type": "stream",
          "name": "stderr",
          "text": [
            "WARNING:absl:You are saving your model as an HDF5 file via `model.save()` or `keras.saving.save_model(model)`. This file format is considered legacy. We recommend using instead the native Keras format, e.g. `model.save('my_model.keras')` or `keras.saving.save_model(model, 'my_model.keras')`. \n"
          ]
        }
      ]
    },
    {
      "cell_type": "code",
      "source": [
        "from google.colab import files\n",
        "\n",
        "# Download the saved files\n",
        "files.download('transformer_model.h5')  # For the entire model\n",
        "files.download('transformer.weights.h5')  # For weights only\n",
        "files.download('transformer_architecture.json')  # For architecture only\n"
      ],
      "metadata": {
        "colab": {
          "base_uri": "https://localhost:8080/",
          "height": 17
        },
        "id": "LEUo-P0TLUa7",
        "outputId": "a6ec970d-eb91-4532-8668-915b9f152280"
      },
      "execution_count": 19,
      "outputs": [
        {
          "output_type": "display_data",
          "data": {
            "text/plain": [
              "<IPython.core.display.Javascript object>"
            ],
            "application/javascript": [
              "\n",
              "    async function download(id, filename, size) {\n",
              "      if (!google.colab.kernel.accessAllowed) {\n",
              "        return;\n",
              "      }\n",
              "      const div = document.createElement('div');\n",
              "      const label = document.createElement('label');\n",
              "      label.textContent = `Downloading \"${filename}\": `;\n",
              "      div.appendChild(label);\n",
              "      const progress = document.createElement('progress');\n",
              "      progress.max = size;\n",
              "      div.appendChild(progress);\n",
              "      document.body.appendChild(div);\n",
              "\n",
              "      const buffers = [];\n",
              "      let downloaded = 0;\n",
              "\n",
              "      const channel = await google.colab.kernel.comms.open(id);\n",
              "      // Send a message to notify the kernel that we're ready.\n",
              "      channel.send({})\n",
              "\n",
              "      for await (const message of channel.messages) {\n",
              "        // Send a message to notify the kernel that we're ready.\n",
              "        channel.send({})\n",
              "        if (message.buffers) {\n",
              "          for (const buffer of message.buffers) {\n",
              "            buffers.push(buffer);\n",
              "            downloaded += buffer.byteLength;\n",
              "            progress.value = downloaded;\n",
              "          }\n",
              "        }\n",
              "      }\n",
              "      const blob = new Blob(buffers, {type: 'application/binary'});\n",
              "      const a = document.createElement('a');\n",
              "      a.href = window.URL.createObjectURL(blob);\n",
              "      a.download = filename;\n",
              "      div.appendChild(a);\n",
              "      a.click();\n",
              "      div.remove();\n",
              "    }\n",
              "  "
            ]
          },
          "metadata": {}
        },
        {
          "output_type": "display_data",
          "data": {
            "text/plain": [
              "<IPython.core.display.Javascript object>"
            ],
            "application/javascript": [
              "download(\"download_64d8fd10-30b4-4a16-b400-eb7a800f96a1\", \"transformer_model.h5\", 14052192)"
            ]
          },
          "metadata": {}
        },
        {
          "output_type": "display_data",
          "data": {
            "text/plain": [
              "<IPython.core.display.Javascript object>"
            ],
            "application/javascript": [
              "\n",
              "    async function download(id, filename, size) {\n",
              "      if (!google.colab.kernel.accessAllowed) {\n",
              "        return;\n",
              "      }\n",
              "      const div = document.createElement('div');\n",
              "      const label = document.createElement('label');\n",
              "      label.textContent = `Downloading \"${filename}\": `;\n",
              "      div.appendChild(label);\n",
              "      const progress = document.createElement('progress');\n",
              "      progress.max = size;\n",
              "      div.appendChild(progress);\n",
              "      document.body.appendChild(div);\n",
              "\n",
              "      const buffers = [];\n",
              "      let downloaded = 0;\n",
              "\n",
              "      const channel = await google.colab.kernel.comms.open(id);\n",
              "      // Send a message to notify the kernel that we're ready.\n",
              "      channel.send({})\n",
              "\n",
              "      for await (const message of channel.messages) {\n",
              "        // Send a message to notify the kernel that we're ready.\n",
              "        channel.send({})\n",
              "        if (message.buffers) {\n",
              "          for (const buffer of message.buffers) {\n",
              "            buffers.push(buffer);\n",
              "            downloaded += buffer.byteLength;\n",
              "            progress.value = downloaded;\n",
              "          }\n",
              "        }\n",
              "      }\n",
              "      const blob = new Blob(buffers, {type: 'application/binary'});\n",
              "      const a = document.createElement('a');\n",
              "      a.href = window.URL.createObjectURL(blob);\n",
              "      a.download = filename;\n",
              "      div.appendChild(a);\n",
              "      a.click();\n",
              "      div.remove();\n",
              "    }\n",
              "  "
            ]
          },
          "metadata": {}
        },
        {
          "output_type": "display_data",
          "data": {
            "text/plain": [
              "<IPython.core.display.Javascript object>"
            ],
            "application/javascript": [
              "download(\"download_4ecf9b45-4f11-43de-ab5a-0c07b1d40011\", \"transformer.weights.h5\", 14032992)"
            ]
          },
          "metadata": {}
        },
        {
          "output_type": "display_data",
          "data": {
            "text/plain": [
              "<IPython.core.display.Javascript object>"
            ],
            "application/javascript": [
              "\n",
              "    async function download(id, filename, size) {\n",
              "      if (!google.colab.kernel.accessAllowed) {\n",
              "        return;\n",
              "      }\n",
              "      const div = document.createElement('div');\n",
              "      const label = document.createElement('label');\n",
              "      label.textContent = `Downloading \"${filename}\": `;\n",
              "      div.appendChild(label);\n",
              "      const progress = document.createElement('progress');\n",
              "      progress.max = size;\n",
              "      div.appendChild(progress);\n",
              "      document.body.appendChild(div);\n",
              "\n",
              "      const buffers = [];\n",
              "      let downloaded = 0;\n",
              "\n",
              "      const channel = await google.colab.kernel.comms.open(id);\n",
              "      // Send a message to notify the kernel that we're ready.\n",
              "      channel.send({})\n",
              "\n",
              "      for await (const message of channel.messages) {\n",
              "        // Send a message to notify the kernel that we're ready.\n",
              "        channel.send({})\n",
              "        if (message.buffers) {\n",
              "          for (const buffer of message.buffers) {\n",
              "            buffers.push(buffer);\n",
              "            downloaded += buffer.byteLength;\n",
              "            progress.value = downloaded;\n",
              "          }\n",
              "        }\n",
              "      }\n",
              "      const blob = new Blob(buffers, {type: 'application/binary'});\n",
              "      const a = document.createElement('a');\n",
              "      a.href = window.URL.createObjectURL(blob);\n",
              "      a.download = filename;\n",
              "      div.appendChild(a);\n",
              "      a.click();\n",
              "      div.remove();\n",
              "    }\n",
              "  "
            ]
          },
          "metadata": {}
        },
        {
          "output_type": "display_data",
          "data": {
            "text/plain": [
              "<IPython.core.display.Javascript object>"
            ],
            "application/javascript": [
              "download(\"download_404eb0f6-d261-4722-8377-a9680ce2172c\", \"transformer_architecture.json\", 25171)"
            ]
          },
          "metadata": {}
        }
      ]
    },
    {
      "cell_type": "code",
      "source": [
        "# Add the sample_next_token function above generate_music\n",
        "def sample_next_token(probabilities, temperature=1.0):\n",
        "    probabilities = np.log(probabilities + 1e-10) / temperature\n",
        "    probabilities = np.exp(probabilities)\n",
        "    probabilities /= np.sum(probabilities)\n",
        "    return np.random.choice(len(probabilities), p=probabilities)\n",
        "\n",
        "# Existing generate_music function\n",
        "def generate_music(model, seed_sequence, vocab, reverse_vocab, seq_length=50, num_tokens=100, temperature=1.0):\n",
        "    generated = list(seed_sequence)\n",
        "    print(f\"Initial seed sequence: {generated[:10]}\")  # Debug: Initial sequence\n",
        "\n",
        "    for i in range(num_tokens):\n",
        "        try:\n",
        "            input_seq = np.array(generated[-seq_length:]).reshape(1, seq_length)\n",
        "            print(f\"\\nStep {i+1}/{num_tokens}: Input sequence shape: {input_seq.shape}\")\n",
        "\n",
        "            predictions = model.predict(input_seq, verbose=0)\n",
        "            print(f\"Predictions shape: {predictions.shape}\")\n",
        "\n",
        "            predictions = predictions[0, -1, :]\n",
        "            print(f\"Predictions shape after extracting probabilities: {predictions.shape}\")\n",
        "\n",
        "            next_token = sample_next_token(predictions, temperature)\n",
        "            print(f\"Sampled token: {next_token}\")\n",
        "\n",
        "            generated.append(next_token)\n",
        "        except Exception as e:\n",
        "            print(f\"Error in step {i+1}: {e}\")\n",
        "            break\n",
        "\n",
        "    try:\n",
        "        generated_notes_and_durations = [reverse_vocab[token] for token in generated]\n",
        "        print(f\"Generated notes and durations: {generated_notes_and_durations[:10]}\")\n",
        "        return generated_notes_and_durations\n",
        "    except Exception as e:\n",
        "        print(f\"Error during decoding: {e}\")\n",
        "        return []\n"
      ],
      "metadata": {
        "id": "YoU8ya9mMSSy"
      },
      "execution_count": 20,
      "outputs": []
    },
    {
      "cell_type": "code",
      "source": [
        "# Use the first sequence in the dataset as the seed\n",
        "seed_sequence = input_sequences[0]\n",
        "\n",
        "# Generate notes and durations\n",
        "generated_notes_and_durations = generate_music(model, seed_sequence, vocab, reverse_vocab, num_tokens=100)\n",
        "\n",
        "# Print the first 10 generated (note, duration) pairs\n",
        "print(f\"Generated notes and durations: {generated_notes_and_durations[:10]}\")\n"
      ],
      "metadata": {
        "colab": {
          "base_uri": "https://localhost:8080/"
        },
        "id": "47Xan5-eMT-p",
        "outputId": "3e5dbe31-c466-4c90-fda6-9564be39368b"
      },
      "execution_count": 21,
      "outputs": [
        {
          "output_type": "stream",
          "name": "stdout",
          "text": [
            "Initial seed sequence: [0, 0, 1, 2, 3, 4, 5, 0, 6, 5]\n",
            "\n",
            "Step 1/100: Input sequence shape: (1, 50)\n",
            "Predictions shape: (1, 50, 127)\n",
            "Predictions shape after extracting probabilities: (127,)\n",
            "Sampled token: 8\n",
            "\n",
            "Step 2/100: Input sequence shape: (1, 50)\n",
            "Predictions shape: (1, 50, 127)\n",
            "Predictions shape after extracting probabilities: (127,)\n",
            "Sampled token: 25\n",
            "\n",
            "Step 3/100: Input sequence shape: (1, 50)\n",
            "Predictions shape: (1, 50, 127)\n",
            "Predictions shape after extracting probabilities: (127,)\n",
            "Sampled token: 0\n",
            "\n",
            "Step 4/100: Input sequence shape: (1, 50)\n",
            "Predictions shape: (1, 50, 127)\n",
            "Predictions shape after extracting probabilities: (127,)\n",
            "Sampled token: 17\n",
            "\n",
            "Step 5/100: Input sequence shape: (1, 50)\n",
            "Predictions shape: (1, 50, 127)\n",
            "Predictions shape after extracting probabilities: (127,)\n",
            "Sampled token: 22\n",
            "\n",
            "Step 6/100: Input sequence shape: (1, 50)\n",
            "Predictions shape: (1, 50, 127)\n",
            "Predictions shape after extracting probabilities: (127,)\n",
            "Sampled token: 34\n",
            "\n",
            "Step 7/100: Input sequence shape: (1, 50)\n",
            "Predictions shape: (1, 50, 127)\n",
            "Predictions shape after extracting probabilities: (127,)\n",
            "Sampled token: 2\n",
            "\n",
            "Step 8/100: Input sequence shape: (1, 50)\n",
            "Predictions shape: (1, 50, 127)\n",
            "Predictions shape after extracting probabilities: (127,)\n",
            "Sampled token: 24\n",
            "\n",
            "Step 9/100: Input sequence shape: (1, 50)\n",
            "Predictions shape: (1, 50, 127)\n",
            "Predictions shape after extracting probabilities: (127,)\n",
            "Sampled token: 9\n",
            "\n",
            "Step 10/100: Input sequence shape: (1, 50)\n",
            "Predictions shape: (1, 50, 127)\n",
            "Predictions shape after extracting probabilities: (127,)\n",
            "Sampled token: 23\n",
            "\n",
            "Step 11/100: Input sequence shape: (1, 50)\n",
            "Predictions shape: (1, 50, 127)\n",
            "Predictions shape after extracting probabilities: (127,)\n",
            "Sampled token: 9\n",
            "\n",
            "Step 12/100: Input sequence shape: (1, 50)\n",
            "Predictions shape: (1, 50, 127)\n",
            "Predictions shape after extracting probabilities: (127,)\n",
            "Sampled token: 15\n",
            "\n",
            "Step 13/100: Input sequence shape: (1, 50)\n",
            "Predictions shape: (1, 50, 127)\n",
            "Predictions shape after extracting probabilities: (127,)\n",
            "Sampled token: 9\n",
            "\n",
            "Step 14/100: Input sequence shape: (1, 50)\n",
            "Predictions shape: (1, 50, 127)\n",
            "Predictions shape after extracting probabilities: (127,)\n",
            "Sampled token: 15\n",
            "\n",
            "Step 15/100: Input sequence shape: (1, 50)\n",
            "Predictions shape: (1, 50, 127)\n",
            "Predictions shape after extracting probabilities: (127,)\n",
            "Sampled token: 9\n",
            "\n",
            "Step 16/100: Input sequence shape: (1, 50)\n",
            "Predictions shape: (1, 50, 127)\n",
            "Predictions shape after extracting probabilities: (127,)\n",
            "Sampled token: 9\n",
            "\n",
            "Step 17/100: Input sequence shape: (1, 50)\n",
            "Predictions shape: (1, 50, 127)\n",
            "Predictions shape after extracting probabilities: (127,)\n",
            "Sampled token: 24\n",
            "\n",
            "Step 18/100: Input sequence shape: (1, 50)\n",
            "Predictions shape: (1, 50, 127)\n",
            "Predictions shape after extracting probabilities: (127,)\n",
            "Sampled token: 25\n",
            "\n",
            "Step 19/100: Input sequence shape: (1, 50)\n",
            "Predictions shape: (1, 50, 127)\n",
            "Predictions shape after extracting probabilities: (127,)\n",
            "Sampled token: 10\n",
            "\n",
            "Step 20/100: Input sequence shape: (1, 50)\n",
            "Predictions shape: (1, 50, 127)\n",
            "Predictions shape after extracting probabilities: (127,)\n",
            "Sampled token: 7\n",
            "\n",
            "Step 21/100: Input sequence shape: (1, 50)\n",
            "Predictions shape: (1, 50, 127)\n",
            "Predictions shape after extracting probabilities: (127,)\n",
            "Sampled token: 10\n",
            "\n",
            "Step 22/100: Input sequence shape: (1, 50)\n",
            "Predictions shape: (1, 50, 127)\n",
            "Predictions shape after extracting probabilities: (127,)\n",
            "Sampled token: 2\n",
            "\n",
            "Step 23/100: Input sequence shape: (1, 50)\n",
            "Predictions shape: (1, 50, 127)\n",
            "Predictions shape after extracting probabilities: (127,)\n",
            "Sampled token: 25\n",
            "\n",
            "Step 24/100: Input sequence shape: (1, 50)\n",
            "Predictions shape: (1, 50, 127)\n",
            "Predictions shape after extracting probabilities: (127,)\n",
            "Sampled token: 24\n",
            "\n",
            "Step 25/100: Input sequence shape: (1, 50)\n",
            "Predictions shape: (1, 50, 127)\n",
            "Predictions shape after extracting probabilities: (127,)\n",
            "Sampled token: 2\n",
            "\n",
            "Step 26/100: Input sequence shape: (1, 50)\n",
            "Predictions shape: (1, 50, 127)\n",
            "Predictions shape after extracting probabilities: (127,)\n",
            "Sampled token: 5\n",
            "\n",
            "Step 27/100: Input sequence shape: (1, 50)\n",
            "Predictions shape: (1, 50, 127)\n",
            "Predictions shape after extracting probabilities: (127,)\n",
            "Sampled token: 5\n",
            "\n",
            "Step 28/100: Input sequence shape: (1, 50)\n",
            "Predictions shape: (1, 50, 127)\n",
            "Predictions shape after extracting probabilities: (127,)\n",
            "Sampled token: 9\n",
            "\n",
            "Step 29/100: Input sequence shape: (1, 50)\n",
            "Predictions shape: (1, 50, 127)\n",
            "Predictions shape after extracting probabilities: (127,)\n",
            "Sampled token: 9\n",
            "\n",
            "Step 30/100: Input sequence shape: (1, 50)\n",
            "Predictions shape: (1, 50, 127)\n",
            "Predictions shape after extracting probabilities: (127,)\n",
            "Sampled token: 5\n",
            "\n",
            "Step 31/100: Input sequence shape: (1, 50)\n",
            "Predictions shape: (1, 50, 127)\n",
            "Predictions shape after extracting probabilities: (127,)\n",
            "Sampled token: 7\n",
            "\n",
            "Step 32/100: Input sequence shape: (1, 50)\n",
            "Predictions shape: (1, 50, 127)\n",
            "Predictions shape after extracting probabilities: (127,)\n",
            "Sampled token: 34\n",
            "\n",
            "Step 33/100: Input sequence shape: (1, 50)\n",
            "Predictions shape: (1, 50, 127)\n",
            "Predictions shape after extracting probabilities: (127,)\n",
            "Sampled token: 15\n",
            "\n",
            "Step 34/100: Input sequence shape: (1, 50)\n",
            "Predictions shape: (1, 50, 127)\n",
            "Predictions shape after extracting probabilities: (127,)\n",
            "Sampled token: 8\n",
            "\n",
            "Step 35/100: Input sequence shape: (1, 50)\n",
            "Predictions shape: (1, 50, 127)\n",
            "Predictions shape after extracting probabilities: (127,)\n",
            "Sampled token: 25\n",
            "\n",
            "Step 36/100: Input sequence shape: (1, 50)\n",
            "Predictions shape: (1, 50, 127)\n",
            "Predictions shape after extracting probabilities: (127,)\n",
            "Sampled token: 8\n",
            "\n",
            "Step 37/100: Input sequence shape: (1, 50)\n",
            "Predictions shape: (1, 50, 127)\n",
            "Predictions shape after extracting probabilities: (127,)\n",
            "Sampled token: 12\n",
            "\n",
            "Step 38/100: Input sequence shape: (1, 50)\n",
            "Predictions shape: (1, 50, 127)\n",
            "Predictions shape after extracting probabilities: (127,)\n",
            "Sampled token: 22\n",
            "\n",
            "Step 39/100: Input sequence shape: (1, 50)\n",
            "Predictions shape: (1, 50, 127)\n",
            "Predictions shape after extracting probabilities: (127,)\n",
            "Sampled token: 9\n",
            "\n",
            "Step 40/100: Input sequence shape: (1, 50)\n",
            "Predictions shape: (1, 50, 127)\n",
            "Predictions shape after extracting probabilities: (127,)\n",
            "Sampled token: 5\n",
            "\n",
            "Step 41/100: Input sequence shape: (1, 50)\n",
            "Predictions shape: (1, 50, 127)\n",
            "Predictions shape after extracting probabilities: (127,)\n",
            "Sampled token: 13\n",
            "\n",
            "Step 42/100: Input sequence shape: (1, 50)\n",
            "Predictions shape: (1, 50, 127)\n",
            "Predictions shape after extracting probabilities: (127,)\n",
            "Sampled token: 27\n",
            "\n",
            "Step 43/100: Input sequence shape: (1, 50)\n",
            "Predictions shape: (1, 50, 127)\n",
            "Predictions shape after extracting probabilities: (127,)\n",
            "Sampled token: 5\n",
            "\n",
            "Step 44/100: Input sequence shape: (1, 50)\n",
            "Predictions shape: (1, 50, 127)\n",
            "Predictions shape after extracting probabilities: (127,)\n",
            "Sampled token: 16\n",
            "\n",
            "Step 45/100: Input sequence shape: (1, 50)\n",
            "Predictions shape: (1, 50, 127)\n",
            "Predictions shape after extracting probabilities: (127,)\n",
            "Sampled token: 9\n",
            "\n",
            "Step 46/100: Input sequence shape: (1, 50)\n",
            "Predictions shape: (1, 50, 127)\n",
            "Predictions shape after extracting probabilities: (127,)\n",
            "Sampled token: 8\n",
            "\n",
            "Step 47/100: Input sequence shape: (1, 50)\n",
            "Predictions shape: (1, 50, 127)\n",
            "Predictions shape after extracting probabilities: (127,)\n",
            "Sampled token: 0\n",
            "\n",
            "Step 48/100: Input sequence shape: (1, 50)\n",
            "Predictions shape: (1, 50, 127)\n",
            "Predictions shape after extracting probabilities: (127,)\n",
            "Sampled token: 5\n",
            "\n",
            "Step 49/100: Input sequence shape: (1, 50)\n",
            "Predictions shape: (1, 50, 127)\n",
            "Predictions shape after extracting probabilities: (127,)\n",
            "Sampled token: 4\n",
            "\n",
            "Step 50/100: Input sequence shape: (1, 50)\n",
            "Predictions shape: (1, 50, 127)\n",
            "Predictions shape after extracting probabilities: (127,)\n",
            "Sampled token: 9\n",
            "\n",
            "Step 51/100: Input sequence shape: (1, 50)\n",
            "Predictions shape: (1, 50, 127)\n",
            "Predictions shape after extracting probabilities: (127,)\n",
            "Sampled token: 1\n",
            "\n",
            "Step 52/100: Input sequence shape: (1, 50)\n",
            "Predictions shape: (1, 50, 127)\n",
            "Predictions shape after extracting probabilities: (127,)\n",
            "Sampled token: 13\n",
            "\n",
            "Step 53/100: Input sequence shape: (1, 50)\n",
            "Predictions shape: (1, 50, 127)\n",
            "Predictions shape after extracting probabilities: (127,)\n",
            "Sampled token: 35\n",
            "\n",
            "Step 54/100: Input sequence shape: (1, 50)\n",
            "Predictions shape: (1, 50, 127)\n",
            "Predictions shape after extracting probabilities: (127,)\n",
            "Sampled token: 13\n",
            "\n",
            "Step 55/100: Input sequence shape: (1, 50)\n",
            "Predictions shape: (1, 50, 127)\n",
            "Predictions shape after extracting probabilities: (127,)\n",
            "Sampled token: 6\n",
            "\n",
            "Step 56/100: Input sequence shape: (1, 50)\n",
            "Predictions shape: (1, 50, 127)\n",
            "Predictions shape after extracting probabilities: (127,)\n",
            "Sampled token: 19\n",
            "\n",
            "Step 57/100: Input sequence shape: (1, 50)\n",
            "Predictions shape: (1, 50, 127)\n",
            "Predictions shape after extracting probabilities: (127,)\n",
            "Sampled token: 2\n",
            "\n",
            "Step 58/100: Input sequence shape: (1, 50)\n",
            "Predictions shape: (1, 50, 127)\n",
            "Predictions shape after extracting probabilities: (127,)\n",
            "Sampled token: 7\n",
            "\n",
            "Step 59/100: Input sequence shape: (1, 50)\n",
            "Predictions shape: (1, 50, 127)\n",
            "Predictions shape after extracting probabilities: (127,)\n",
            "Sampled token: 8\n",
            "\n",
            "Step 60/100: Input sequence shape: (1, 50)\n",
            "Predictions shape: (1, 50, 127)\n",
            "Predictions shape after extracting probabilities: (127,)\n",
            "Sampled token: 15\n",
            "\n",
            "Step 61/100: Input sequence shape: (1, 50)\n",
            "Predictions shape: (1, 50, 127)\n",
            "Predictions shape after extracting probabilities: (127,)\n",
            "Sampled token: 15\n",
            "\n",
            "Step 62/100: Input sequence shape: (1, 50)\n",
            "Predictions shape: (1, 50, 127)\n",
            "Predictions shape after extracting probabilities: (127,)\n",
            "Sampled token: 23\n",
            "\n",
            "Step 63/100: Input sequence shape: (1, 50)\n",
            "Predictions shape: (1, 50, 127)\n",
            "Predictions shape after extracting probabilities: (127,)\n",
            "Sampled token: 25\n",
            "\n",
            "Step 64/100: Input sequence shape: (1, 50)\n",
            "Predictions shape: (1, 50, 127)\n",
            "Predictions shape after extracting probabilities: (127,)\n",
            "Sampled token: 23\n",
            "\n",
            "Step 65/100: Input sequence shape: (1, 50)\n",
            "Predictions shape: (1, 50, 127)\n",
            "Predictions shape after extracting probabilities: (127,)\n",
            "Sampled token: 15\n",
            "\n",
            "Step 66/100: Input sequence shape: (1, 50)\n",
            "Predictions shape: (1, 50, 127)\n",
            "Predictions shape after extracting probabilities: (127,)\n",
            "Sampled token: 5\n",
            "\n",
            "Step 67/100: Input sequence shape: (1, 50)\n",
            "Predictions shape: (1, 50, 127)\n",
            "Predictions shape after extracting probabilities: (127,)\n",
            "Sampled token: 10\n",
            "\n",
            "Step 68/100: Input sequence shape: (1, 50)\n",
            "Predictions shape: (1, 50, 127)\n",
            "Predictions shape after extracting probabilities: (127,)\n",
            "Sampled token: 23\n",
            "\n",
            "Step 69/100: Input sequence shape: (1, 50)\n",
            "Predictions shape: (1, 50, 127)\n",
            "Predictions shape after extracting probabilities: (127,)\n",
            "Sampled token: 9\n",
            "\n",
            "Step 70/100: Input sequence shape: (1, 50)\n",
            "Predictions shape: (1, 50, 127)\n",
            "Predictions shape after extracting probabilities: (127,)\n",
            "Sampled token: 23\n",
            "\n",
            "Step 71/100: Input sequence shape: (1, 50)\n",
            "Predictions shape: (1, 50, 127)\n",
            "Predictions shape after extracting probabilities: (127,)\n",
            "Sampled token: 23\n",
            "\n",
            "Step 72/100: Input sequence shape: (1, 50)\n",
            "Predictions shape: (1, 50, 127)\n",
            "Predictions shape after extracting probabilities: (127,)\n",
            "Sampled token: 9\n",
            "\n",
            "Step 73/100: Input sequence shape: (1, 50)\n",
            "Predictions shape: (1, 50, 127)\n",
            "Predictions shape after extracting probabilities: (127,)\n",
            "Sampled token: 9\n",
            "\n",
            "Step 74/100: Input sequence shape: (1, 50)\n",
            "Predictions shape: (1, 50, 127)\n",
            "Predictions shape after extracting probabilities: (127,)\n",
            "Sampled token: 22\n",
            "\n",
            "Step 75/100: Input sequence shape: (1, 50)\n",
            "Predictions shape: (1, 50, 127)\n",
            "Predictions shape after extracting probabilities: (127,)\n",
            "Sampled token: 26\n",
            "\n",
            "Step 76/100: Input sequence shape: (1, 50)\n",
            "Predictions shape: (1, 50, 127)\n",
            "Predictions shape after extracting probabilities: (127,)\n",
            "Sampled token: 11\n",
            "\n",
            "Step 77/100: Input sequence shape: (1, 50)\n",
            "Predictions shape: (1, 50, 127)\n",
            "Predictions shape after extracting probabilities: (127,)\n",
            "Sampled token: 2\n",
            "\n",
            "Step 78/100: Input sequence shape: (1, 50)\n",
            "Predictions shape: (1, 50, 127)\n",
            "Predictions shape after extracting probabilities: (127,)\n",
            "Sampled token: 11\n",
            "\n",
            "Step 79/100: Input sequence shape: (1, 50)\n",
            "Predictions shape: (1, 50, 127)\n",
            "Predictions shape after extracting probabilities: (127,)\n",
            "Sampled token: 25\n",
            "\n",
            "Step 80/100: Input sequence shape: (1, 50)\n",
            "Predictions shape: (1, 50, 127)\n",
            "Predictions shape after extracting probabilities: (127,)\n",
            "Sampled token: 9\n",
            "\n",
            "Step 81/100: Input sequence shape: (1, 50)\n",
            "Predictions shape: (1, 50, 127)\n",
            "Predictions shape after extracting probabilities: (127,)\n",
            "Sampled token: 1\n",
            "\n",
            "Step 82/100: Input sequence shape: (1, 50)\n",
            "Predictions shape: (1, 50, 127)\n",
            "Predictions shape after extracting probabilities: (127,)\n",
            "Sampled token: 10\n",
            "\n",
            "Step 83/100: Input sequence shape: (1, 50)\n",
            "Predictions shape: (1, 50, 127)\n",
            "Predictions shape after extracting probabilities: (127,)\n",
            "Sampled token: 24\n",
            "\n",
            "Step 84/100: Input sequence shape: (1, 50)\n",
            "Predictions shape: (1, 50, 127)\n",
            "Predictions shape after extracting probabilities: (127,)\n",
            "Sampled token: 8\n",
            "\n",
            "Step 85/100: Input sequence shape: (1, 50)\n",
            "Predictions shape: (1, 50, 127)\n",
            "Predictions shape after extracting probabilities: (127,)\n",
            "Sampled token: 5\n",
            "\n",
            "Step 86/100: Input sequence shape: (1, 50)\n",
            "Predictions shape: (1, 50, 127)\n",
            "Predictions shape after extracting probabilities: (127,)\n",
            "Sampled token: 16\n",
            "\n",
            "Step 87/100: Input sequence shape: (1, 50)\n",
            "Predictions shape: (1, 50, 127)\n",
            "Predictions shape after extracting probabilities: (127,)\n",
            "Sampled token: 10\n",
            "\n",
            "Step 88/100: Input sequence shape: (1, 50)\n",
            "Predictions shape: (1, 50, 127)\n",
            "Predictions shape after extracting probabilities: (127,)\n",
            "Sampled token: 24\n",
            "\n",
            "Step 89/100: Input sequence shape: (1, 50)\n",
            "Predictions shape: (1, 50, 127)\n",
            "Predictions shape after extracting probabilities: (127,)\n",
            "Sampled token: 19\n",
            "\n",
            "Step 90/100: Input sequence shape: (1, 50)\n",
            "Predictions shape: (1, 50, 127)\n",
            "Predictions shape after extracting probabilities: (127,)\n",
            "Sampled token: 11\n",
            "\n",
            "Step 91/100: Input sequence shape: (1, 50)\n",
            "Predictions shape: (1, 50, 127)\n",
            "Predictions shape after extracting probabilities: (127,)\n",
            "Sampled token: 0\n",
            "\n",
            "Step 92/100: Input sequence shape: (1, 50)\n",
            "Predictions shape: (1, 50, 127)\n",
            "Predictions shape after extracting probabilities: (127,)\n",
            "Sampled token: 2\n",
            "\n",
            "Step 93/100: Input sequence shape: (1, 50)\n",
            "Predictions shape: (1, 50, 127)\n",
            "Predictions shape after extracting probabilities: (127,)\n",
            "Sampled token: 13\n",
            "\n",
            "Step 94/100: Input sequence shape: (1, 50)\n",
            "Predictions shape: (1, 50, 127)\n",
            "Predictions shape after extracting probabilities: (127,)\n",
            "Sampled token: 10\n",
            "\n",
            "Step 95/100: Input sequence shape: (1, 50)\n",
            "Predictions shape: (1, 50, 127)\n",
            "Predictions shape after extracting probabilities: (127,)\n",
            "Sampled token: 12\n",
            "\n",
            "Step 96/100: Input sequence shape: (1, 50)\n",
            "Predictions shape: (1, 50, 127)\n",
            "Predictions shape after extracting probabilities: (127,)\n",
            "Sampled token: 2\n",
            "\n",
            "Step 97/100: Input sequence shape: (1, 50)\n",
            "Predictions shape: (1, 50, 127)\n",
            "Predictions shape after extracting probabilities: (127,)\n",
            "Sampled token: 8\n",
            "\n",
            "Step 98/100: Input sequence shape: (1, 50)\n",
            "Predictions shape: (1, 50, 127)\n",
            "Predictions shape after extracting probabilities: (127,)\n",
            "Sampled token: 23\n",
            "\n",
            "Step 99/100: Input sequence shape: (1, 50)\n",
            "Predictions shape: (1, 50, 127)\n",
            "Predictions shape after extracting probabilities: (127,)\n",
            "Sampled token: 7\n",
            "\n",
            "Step 100/100: Input sequence shape: (1, 50)\n",
            "Predictions shape: (1, 50, 127)\n",
            "Predictions shape after extracting probabilities: (127,)\n",
            "Sampled token: 11\n",
            "Generated notes and durations: ['E-3', 'E-3', 'B-2', 'C3', 'G#2', 'F2', 'D3', 'E-3', 'E-2', 'D3']\n",
            "Generated notes and durations: ['E-3', 'E-3', 'B-2', 'C3', 'G#2', 'F2', 'D3', 'E-3', 'E-2', 'D3']\n"
          ]
        }
      ]
    },
    {
      "cell_type": "code",
      "source": [
        "print(f\"Vocabulary keys (sample): {list(vocab.keys())[:10]}\")\n",
        "print(f\"Reverse vocabulary values (sample): {list(reverse_vocab.values())[:10]}\")\n",
        "\n",
        "# Check if specific notes exist\n",
        "notes_to_check = ['A3', 'D3', 'B-3', 'C#3', 'G3']\n",
        "missing_notes = [note for note in notes_to_check if note not in vocab]\n",
        "print(f\"Missing notes in vocab: {missing_notes}\")\n"
      ],
      "metadata": {
        "colab": {
          "base_uri": "https://localhost:8080/"
        },
        "id": "0Yg6os1RN5Jf",
        "outputId": "2c48d7c2-0972-4e0b-e10f-3bb1631a36d8"
      },
      "execution_count": 22,
      "outputs": [
        {
          "output_type": "stream",
          "name": "stdout",
          "text": [
            "Vocabulary keys (sample): ['E-3', 'B-2', 'C3', 'G#2', 'F2', 'D3', 'E-2', 'F3', 'G3', 'A3']\n",
            "Reverse vocabulary values (sample): ['E-3', 'B-2', 'C3', 'G#2', 'F2', 'D3', 'E-2', 'F3', 'G3', 'A3']\n",
            "Missing notes in vocab: []\n"
          ]
        }
      ]
    },
    {
      "cell_type": "code",
      "source": [
        "# Normalize reverse_vocab keys\n",
        "reverse_vocab = {i: str(note).strip() for i, note in reverse_vocab.items()}\n",
        "\n",
        "# Normalize generated_notes\n",
        "generated_notes_and_durations = [str(token).strip() for token in generated_notes_and_durations]\n",
        "\n",
        "# Debugging output\n",
        "print(f\"Normalized keys in reverse_vocab: {list(reverse_vocab.values())[:10]}\")\n",
        "print(f\"Normalized tokens in generated_notes: {generated_notes_and_durations[:10]}\")\n"
      ],
      "metadata": {
        "colab": {
          "base_uri": "https://localhost:8080/"
        },
        "id": "6Kn1v84LOLga",
        "outputId": "89dfb655-d620-4d45-fd22-af7dc428b554"
      },
      "execution_count": 23,
      "outputs": [
        {
          "output_type": "stream",
          "name": "stdout",
          "text": [
            "Normalized keys in reverse_vocab: ['E-3', 'B-2', 'C3', 'G#2', 'F2', 'D3', 'E-2', 'F3', 'G3', 'A3']\n",
            "Normalized tokens in generated_notes: ['E-3', 'E-3', 'B-2', 'C3', 'G#2', 'F2', 'D3', 'E-3', 'E-2', 'D3']\n"
          ]
        }
      ]
    },
    {
      "cell_type": "code",
      "source": [
        "# Check for missing tokens\n",
        "missing_tokens = [token for token in generated_notes_and_durations if token not in reverse_vocab.values()]\n",
        "if missing_tokens:\n",
        "    print(f\"Missing tokens in reverse_vocab after normalization: {missing_tokens}\")\n",
        "else:\n",
        "    print(\"All tokens in generated_notes match reverse_vocab keys.\")\n"
      ],
      "metadata": {
        "colab": {
          "base_uri": "https://localhost:8080/"
        },
        "id": "PKKeqR2gOUFD",
        "outputId": "4986eedd-ec1b-4be9-dbaf-9c13bbc8cd9f"
      },
      "execution_count": 24,
      "outputs": [
        {
          "output_type": "stream",
          "name": "stdout",
          "text": [
            "All tokens in generated_notes match reverse_vocab keys.\n"
          ]
        }
      ]
    },
    {
      "cell_type": "code",
      "source": [
        "# Debug tokens that are missing\n",
        "for token in generated_notes_and_durations:\n",
        "    if token not in reverse_vocab.values():\n",
        "        print(f\"Token not in reverse_vocab: '{token}' (Type: {type(token)})\")\n"
      ],
      "metadata": {
        "id": "uYho6NKsOVT0"
      },
      "execution_count": 25,
      "outputs": []
    },
    {
      "cell_type": "code",
      "source": [
        "# Rebuild reverse_vocab from vocab\n",
        "reverse_vocab = {i: str(note).strip() for note, i in vocab.items()}\n"
      ],
      "metadata": {
        "id": "8dnvoquaOXlH"
      },
      "execution_count": 26,
      "outputs": []
    },
    {
      "cell_type": "code",
      "source": [
        "# Map generated tokens to notes or chords\n",
        "mapped_notes = []\n",
        "for token in generated_notes_and_durations:\n",
        "    if token in reverse_vocab.values():\n",
        "        mapped_notes.append(token)\n",
        "    else:\n",
        "        raise ValueError(f\"Token {token} not found in reverse_vocab. This should not happen after normalization.\")\n",
        "\n",
        "print(f\"Validated mapped notes: {mapped_notes[:10]}\")\n"
      ],
      "metadata": {
        "colab": {
          "base_uri": "https://localhost:8080/"
        },
        "id": "1woH0aBnOZzS",
        "outputId": "60bb8f12-b56e-41b6-a759-566f05ea40d2"
      },
      "execution_count": 27,
      "outputs": [
        {
          "output_type": "stream",
          "name": "stdout",
          "text": [
            "Validated mapped notes: ['E-3', 'E-3', 'B-2', 'C3', 'G#2', 'F2', 'D3', 'E-3', 'E-2', 'D3']\n"
          ]
        }
      ]
    },
    {
      "cell_type": "code",
      "source": [
        "from music21 import stream, note, chord\n",
        "\n",
        "def notes_to_midi(mapped_notes, output_file='generated_music_fixed.mid'):\n",
        "    \"\"\"\n",
        "    Convert mapped notes (chords or single notes) into a MIDI file.\n",
        "    :param mapped_notes: List of mapped notes/chords.\n",
        "    :param output_file: Name of the output MIDI file.\n",
        "    \"\"\"\n",
        "    midi_stream = stream.Stream()\n",
        "\n",
        "    for element in mapped_notes:\n",
        "        if '.' in element:  # Chord\n",
        "            notes_in_chord = element.split('.')  # Assume elements are note names like \"A3.C4.E4\"\n",
        "            midi_stream.append(chord.Chord(notes_in_chord))\n",
        "        else:  # Single note\n",
        "            midi_stream.append(note.Note(element))  # Directly pass the note name\n",
        "\n",
        "    # Save the MIDI file\n",
        "    midi_stream.write('midi', fp=output_file)\n",
        "    print(f\"MIDI file saved as {output_file}\")\n",
        "\n",
        "# Convert to MIDI\n",
        "notes_to_midi(mapped_notes)\n"
      ],
      "metadata": {
        "colab": {
          "base_uri": "https://localhost:8080/"
        },
        "id": "p5IvqTTtOcRx",
        "outputId": "b62275b8-9031-4acb-ee33-75320ff67ab2"
      },
      "execution_count": 28,
      "outputs": [
        {
          "output_type": "stream",
          "name": "stdout",
          "text": [
            "MIDI file saved as generated_music_fixed.mid\n"
          ]
        }
      ]
    },
    {
      "cell_type": "code",
      "source": [
        "# Convert and save the MIDI file\n",
        "notes_to_midi(mapped_notes, output_file='generated_music_fixed.mid')\n",
        "\n",
        "# Download the MIDI file\n",
        "from google.colab import files\n",
        "files.download('generated_music_fixed.mid')\n"
      ],
      "metadata": {
        "id": "5WlJKlz6Owp2",
        "outputId": "3a7f707f-03a9-47a4-9454-2aabd521bc9f",
        "colab": {
          "base_uri": "https://localhost:8080/",
          "height": 35
        }
      },
      "execution_count": 29,
      "outputs": [
        {
          "output_type": "stream",
          "name": "stdout",
          "text": [
            "MIDI file saved as generated_music_fixed.mid\n"
          ]
        },
        {
          "output_type": "display_data",
          "data": {
            "text/plain": [
              "<IPython.core.display.Javascript object>"
            ],
            "application/javascript": [
              "\n",
              "    async function download(id, filename, size) {\n",
              "      if (!google.colab.kernel.accessAllowed) {\n",
              "        return;\n",
              "      }\n",
              "      const div = document.createElement('div');\n",
              "      const label = document.createElement('label');\n",
              "      label.textContent = `Downloading \"${filename}\": `;\n",
              "      div.appendChild(label);\n",
              "      const progress = document.createElement('progress');\n",
              "      progress.max = size;\n",
              "      div.appendChild(progress);\n",
              "      document.body.appendChild(div);\n",
              "\n",
              "      const buffers = [];\n",
              "      let downloaded = 0;\n",
              "\n",
              "      const channel = await google.colab.kernel.comms.open(id);\n",
              "      // Send a message to notify the kernel that we're ready.\n",
              "      channel.send({})\n",
              "\n",
              "      for await (const message of channel.messages) {\n",
              "        // Send a message to notify the kernel that we're ready.\n",
              "        channel.send({})\n",
              "        if (message.buffers) {\n",
              "          for (const buffer of message.buffers) {\n",
              "            buffers.push(buffer);\n",
              "            downloaded += buffer.byteLength;\n",
              "            progress.value = downloaded;\n",
              "          }\n",
              "        }\n",
              "      }\n",
              "      const blob = new Blob(buffers, {type: 'application/binary'});\n",
              "      const a = document.createElement('a');\n",
              "      a.href = window.URL.createObjectURL(blob);\n",
              "      a.download = filename;\n",
              "      div.appendChild(a);\n",
              "      a.click();\n",
              "      div.remove();\n",
              "    }\n",
              "  "
            ]
          },
          "metadata": {}
        },
        {
          "output_type": "display_data",
          "data": {
            "text/plain": [
              "<IPython.core.display.Javascript object>"
            ],
            "application/javascript": [
              "download(\"download_70d9981a-5f65-4a88-89f4-6893b5c8b968\", \"generated_music_fixed.mid\", 1413)"
            ]
          },
          "metadata": {}
        }
      ]
    }
  ]
}